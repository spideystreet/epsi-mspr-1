{
 "cells": [
  {
   "cell_type": "markdown",
   "metadata": {},
   "source": [
    "#Transformation notebook"
   ]
  },
  {
   "cell_type": "markdown",
   "metadata": {},
   "source": [
    "##Cleaning Dataset"
   ]
  },
  {
   "cell_type": "markdown",
   "metadata": {},
   "source": [
    "###Import"
   ]
  },
  {
   "cell_type": "code",
   "execution_count": 2,
   "metadata": {},
   "outputs": [
    {
     "name": "stdout",
     "output_type": "stream",
     "text": [
      "zsh:source:1: no such file or directory: venv/bin/activate\n"
     ]
    }
   ],
   "source": [
    "!source venv/bin/activate\n",
    "\n",
    "import numpy as np\n",
    "import pandas as pd\n",
    "import matplotlib.pyplot as plt\n",
    "import seaborn as sns"
   ]
  },
  {
   "cell_type": "markdown",
   "metadata": {},
   "source": [
    "###Import EDA"
   ]
  },
  {
   "cell_type": "markdown",
   "metadata": {},
   "source": [
    "The goal is to charge eda analysis into this notebook"
   ]
  },
  {
   "cell_type": "code",
   "execution_count": 4,
   "metadata": {},
   "outputs": [
    {
     "name": "stdout",
     "output_type": "stream",
     "text": [
      "Données de 2018 chargées avec succès - fd: (424571, 124)\n",
      "Données de 2019 chargées avec succès - fd: (416298, 124)\n",
      "Données de 2020 chargées avec succès - fd: (319398, 124)\n",
      "Données de 2021 chargées avec succès - fd: (343304, 73)\n",
      "Données de 2022 chargées avec succès - fd: (348964, 73)\n",
      "Données de 2023 chargées avec succès - fd: (348624, 83)\n"
     ]
    }
   ],
   "source": [
    "# load data from all available years\n",
    "years = range(2018, 2024)  # 2018 to 2023\n",
    "fd_dfs = {}\n",
    "\n",
    "for year in years:\n",
    "    try:\n",
    "        fd_dfs[year] = pd.read_csv(f'../data/{year}/fd.csv', delimiter=\";\", encoding=\"utf-8\")\n",
    "        print(f\"Données de {year} chargées avec succès - fd: {fd_dfs[year].shape}\")\n",
    "    except Exception as e:\n",
    "        print(f\"Erreur lors du chargement des données de {year}: {e}\")\n"
   ]
  }
 ],
 "metadata": {
  "kernelspec": {
   "display_name": "venv",
   "language": "python",
   "name": "python3"
  },
  "language_info": {
   "codemirror_mode": {
    "name": "ipython",
    "version": 3
   },
   "file_extension": ".py",
   "mimetype": "text/x-python",
   "name": "python",
   "nbconvert_exporter": "python",
   "pygments_lexer": "ipython3",
   "version": "3.13.1"
  }
 },
 "nbformat": 4,
 "nbformat_minor": 2
}
