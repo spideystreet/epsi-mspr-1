{
 "cells": [
  {
   "cell_type": "code",
   "execution_count": 4,
   "metadata": {},
   "outputs": [
    {
     "name": "stdout",
     "output_type": "stream",
     "text": [
      "zsh:source:1: no such file or directory: venv/bin/activate\n"
     ]
    }
   ],
   "source": [
    "!source venv/bin/activate\n",
    "\n",
    "# Standard imports for data analysis\n",
    "import numpy as np\n",
    "import pandas as pd\n",
    "import matplotlib.pyplot as plt\n",
    "import seaborn as sns"
   ]
  },
  {
   "cell_type": "markdown",
   "metadata": {},
   "source": [
    "#Loading dataset"
   ]
  },
  {
   "cell_type": "markdown",
   "metadata": {},
   "source": [
    "Datasets are almost the same, years diffears.  \n",
    "\n",
    "We can charge all of them with a loop in our data/  \n",
    "And print their sizes."
   ]
  },
  {
   "cell_type": "code",
   "execution_count": 23,
   "metadata": {},
   "outputs": [
    {
     "name": "stdout",
     "output_type": "stream",
     "text": [
      "Données de 2018 chargées avec succès - fd: (424571, 124), varmod: (1878, 6)\n",
      "Données de 2019 chargées avec succès - fd: (416298, 124), varmod: (1877, 6)\n",
      "Données de 2020 chargées avec succès - fd: (319398, 124), varmod: (1877, 6)\n",
      "Données de 2021 chargées avec succès - fd: (343304, 73), varmod: (1202, 6)\n",
      "Données de 2022 chargées avec succès - fd: (348964, 73), varmod: (1199, 6)\n",
      "Données de 2023 chargées avec succès - fd: (348624, 83), varmod: (1593, 6)\n"
     ]
    }
   ],
   "source": [
    "# charge datas for all years\n",
    "years = range(2018, 2024)  # 2018 to 2023\n",
    "df_fd = {}\n",
    "df_varmod = {}\n",
    "\n",
    "for year in years:\n",
    "    try:\n",
    "        df_fd[year] = pd.read_csv(f'../data/{year}/fd.csv', delimiter=\";\", encoding=\"utf-8\")\n",
    "        df_varmod[year] = pd.read_csv(f'../data/{year}/varmod.csv', delimiter=\";\", encoding=\"utf-8\")\n",
    "        print(f\"Données de {year} chargées avec succès - fd: {df_fd[year].shape}, varmod: {df_varmod[year].shape}\")\n",
    "    except Exception as e:\n",
    "        print(f\"Erreur lors du chargement des données de {year}: {e}\")"
   ]
  },
  {
   "cell_type": "markdown",
   "metadata": {},
   "source": [
    "#Explore data"
   ]
  },
  {
   "cell_type": "markdown",
   "metadata": {},
   "source": [
    "Sample of 2023 dataset"
   ]
  },
  {
   "cell_type": "code",
   "execution_count": 24,
   "metadata": {},
   "outputs": [
    {
     "name": "stdout",
     "output_type": "stream",
     "text": [
      "Structure du fichier varmod (dictionnaire des variables):\n",
      "      COD_VAR                                            LIB_VAR COD_MOD  \\\n",
      "0         AAC  Exercice d'une activité professionnelle réguli...       1   \n",
      "1         AAC  Exercice d'une activité professionnelle réguli...       2   \n",
      "2         AAC  Exercice d'une activité professionnelle réguli...       9   \n",
      "3         AAC  Exercice d'une activité professionnelle réguli...     NaN   \n",
      "4  ACL_EMPLOI  Classe d'emploi (emploi actuel ou dernier emploi)      I1   \n",
      "\n",
      "                                  LIB_MOD TYPE_VAR  LONG_VAR  \n",
      "0                                     Oui     CHAR       1.0  \n",
      "1                                     Non     CHAR       1.0  \n",
      "2                             Non réponse     CHAR       1.0  \n",
      "3                              Hors champ     CHAR       1.0  \n",
      "4  Emploi indépendant de niveau supérieur     CHAR       3.0  \n"
     ]
    }
   ],
   "source": [
    "# Examiner le fichier varmod qui contient les descriptions des variables\n",
    "sample_varmod = df_varmod[2023] if 2023 in df_varmod else next(iter(df_varmod.values()))\n",
    "print(\"Structure du fichier varmod (dictionnaire des variables):\")\n",
    "print(sample_varmod.head())"
   ]
  },
  {
   "cell_type": "code",
   "execution_count": 26,
   "metadata": {},
   "outputs": [
    {
     "name": "stdout",
     "output_type": "stream",
     "text": [
      "Nombre de colonnes communes dans fd à travers toutes les années: 33\n",
      "Nombre de colonnes communes dans varmod à travers toutes les années: 6\n",
      "Nouvelles colonnes dans fd 2021 par rapport à 2020: {'IDENT', 'MRINE', 'RAISNDISPONE', 'HEFFTOT', 'COUPL_LOG', 'RECNE', 'ANCEMPL4', 'NOI', 'HEFFEMP', 'STATUTDET', 'MRJNE', 'MRBNE', 'MRCNE', 'SALTYP', 'SOU_C', 'PCS1Q', 'STCOMM2020', 'AGE6', 'CL_EMPLOI', 'SOUSEMPLR', 'MRANE', 'DISPONE', 'HHABEMP', 'MRENE', 'HHABTOT', 'MRFNE', 'ANCSSEMP', 'DIP7', 'ISCO2', 'NAFANTG088N', 'MRHNE', 'RAISNRECNE', 'RAISNSOUNE', 'DEMNE', 'TYPLOG5', 'MRDNE', 'PCS1', 'PCS2', 'RAISDISPPLC', 'MRGNE'}\n",
      "Colonnes supprimées dans fd 2021 par rapport à 2020: {'AGE3', 'NONDIC', 'AGE5', 'MRPASSC', 'STATOEP', 'ACTIF', 'MRPASSA', 'MRA', 'MRK', 'RDET', 'SOUA', 'MRH', 'COURED', 'ACTEU6', 'CSTMN', 'MRO', 'CREACCP', 'STCHE', 'GARDEB', 'NRECA', 'ACTOP', 'HHCE', 'RAISNSOU', 'RAISNREC', 'CSTOTR', 'DISPOC', 'NFRRED', 'PASTRF', 'RAISPAS', 'DEM', 'MRD', 'EMPNBH', 'CSTOTPRM', 'ANCINACT', 'HPLUSA', 'MRE', 'MRG', 'STMN', 'NAFANT', 'MRF', 'TYPMEN7', 'NREC', 'MRPASSB', 'NRECB', 'CSTPLC', 'MRL', 'MRJ', 'DIP11', 'FONCTC', 'MRBBIS', 'STATUTR', 'AIDFAM', 'JOURTR', 'MREC', 'MRM', 'MRN', 'MRDBIS', 'HREC', 'TITC', 'RAISON', 'PERCREV', 'CATAU2010R', 'STAT2', 'CSP', 'MRI', 'MRGBIS', 'TYPCONT', 'CSA', 'MRC', 'OFFRE', 'DUHAB', 'INSCONT', 'CSE', 'SITANT', 'MRS', 'IDENTM', 'MRB', 'OCCREF', 'TYPCONTB', 'GARDEA', 'NBTOTE', 'HORAIC', 'SOU', 'SOUB', 'CSER', 'HHC6', 'ANCENTR4', 'SOUC', 'CONTACT', 'QPRC', 'CSTOT'}\n",
      "Nouvelles colonnes dans fd 2023 par rapport à 2022: {'ESEG_1', 'ESEG_2', 'APCS2', 'AISCO2', 'STAT_CSPRL', 'PCSL', 'SO', 'CHAMP_M_15_89', 'APCS1', 'ACL_EMPLOI', 'PCSP', 'NATIO', 'STAT_CS'}\n",
      "Colonnes supprimées dans fd 2023 par rapport à 2022: {'PCS1', 'CL_EMPLOI', 'PCS2'}\n"
     ]
    }
   ],
   "source": [
    "# verify consistency of columns between years\n",
    "all_years_fd_cols = {}\n",
    "all_years_varmod_cols = {}\n",
    "\n",
    "for year in df_fd:\n",
    "    all_years_fd_cols[year] = set(df_fd[year].columns)\n",
    "    all_years_varmod_cols[year] = set(df_varmod[year].columns)\n",
    "\n",
    "# find common columns\n",
    "common_fd_cols = set.intersection(*all_years_fd_cols.values()) if all_years_fd_cols else set()\n",
    "common_varmod_cols = set.intersection(*all_years_varmod_cols.values()) if all_years_varmod_cols else set()\n",
    "\n",
    "print(f\"Nombre de colonnes communes dans fd à travers toutes les années: {len(common_fd_cols)}\")\n",
    "print(f\"Nombre de colonnes communes dans varmod à travers toutes les années: {len(common_varmod_cols)}\")\n",
    "\n",
    "# identify columns that appear or disappear according to the years\n",
    "for year in sorted(df_fd.keys()):\n",
    "    if year == min(df_fd.keys()):\n",
    "        continue\n",
    "    prev_year = year - 1\n",
    "    if prev_year in df_fd:\n",
    "        new_cols = all_years_fd_cols[year] - all_years_fd_cols[prev_year]\n",
    "        removed_cols = all_years_fd_cols[prev_year] - all_years_fd_cols[year]\n",
    "        \n",
    "        if new_cols:\n",
    "            print(f\"Nouvelles colonnes dans fd {year} par rapport à {prev_year}: {new_cols}\")\n",
    "        if removed_cols:\n",
    "            print(f\"Colonnes supprimées dans fd {year} par rapport à {prev_year}: {removed_cols}\")"
   ]
  },
  {
   "cell_type": "code",
   "execution_count": 28,
   "metadata": {},
   "outputs": [
    {
     "name": "stdout",
     "output_type": "stream",
     "text": [
      "Top 20 des colonnes avec le plus de valeurs manquantes en moyenne:\n",
      "                   2018       2019       2020       2021       2022  \\\n",
      "MRPASSC       99.817227  99.826807  99.831245        NaN        NaN   \n",
      "MRPASSA       99.817227  99.826807  99.831245        NaN        NaN   \n",
      "MRPASSB       99.817227  99.826807  99.831245        NaN        NaN   \n",
      "RAISON        99.517631  99.500358  99.474010        NaN        NaN   \n",
      "MRK           99.431191  99.436461  99.445206        NaN        NaN   \n",
      "MRL           99.431191  99.436461  99.445206        NaN        NaN   \n",
      "MRI           99.430955  99.436461  99.445206        NaN        NaN   \n",
      "MRH           99.430955  99.436461  99.445206        NaN        NaN   \n",
      "MRJ           99.430955  99.436461  99.445206        NaN        NaN   \n",
      "RAISPAS       99.327321  99.373766  99.281774        NaN        NaN   \n",
      "HREC          99.109218  99.190244  99.311830        NaN        NaN   \n",
      "NRECB         99.109218  99.190244  99.311830        NaN        NaN   \n",
      "CSTMN         98.910194  98.955796  98.962423        NaN        NaN   \n",
      "MRBBIS        98.621668  98.770832  98.930801        NaN        NaN   \n",
      "PERCREV       98.860968  98.865236  98.332175        NaN        NaN   \n",
      "GARDEA        98.391788  98.386973  98.421405        NaN        NaN   \n",
      "NONDIC        98.472105  98.412435  98.285838        NaN        NaN   \n",
      "GARDEB        98.329372  98.361270  98.316207        NaN        NaN   \n",
      "RAISDISPPLC         NaN        NaN        NaN  98.315778  98.211850   \n",
      "RAISNDISPONE        NaN        NaN        NaN  97.856128  97.856799   \n",
      "\n",
      "                   2023    Moyenne  \n",
      "MRPASSC             NaN  99.825093  \n",
      "MRPASSA             NaN  99.825093  \n",
      "MRPASSB             NaN  99.825093  \n",
      "RAISON              NaN  99.497333  \n",
      "MRK                 NaN  99.437619  \n",
      "MRL                 NaN  99.437619  \n",
      "MRI                 NaN  99.437541  \n",
      "MRH                 NaN  99.437541  \n",
      "MRJ                 NaN  99.437541  \n",
      "RAISPAS             NaN  99.327620  \n",
      "HREC                NaN  99.203764  \n",
      "NRECB               NaN  99.203764  \n",
      "CSTMN               NaN  98.942804  \n",
      "MRBBIS              NaN  98.774434  \n",
      "PERCREV             NaN  98.686126  \n",
      "GARDEA              NaN  98.400055  \n",
      "NONDIC              NaN  98.390126  \n",
      "GARDEB              NaN  98.335617  \n",
      "RAISDISPPLC   98.139256  98.222295  \n",
      "RAISNDISPONE  97.716164  97.809697  \n",
      "\n",
      "Colonnes à potentiellement supprimer (>70% de valeurs manquantes): 69\n",
      "['MRPASSC', 'MRPASSA', 'MRPASSB', 'RAISON', 'MRK', 'MRL', 'MRI', 'MRH', 'MRJ', 'RAISPAS', 'HREC', 'NRECB', 'CSTMN', 'MRBBIS', 'PERCREV', 'GARDEA', 'NONDIC', 'GARDEB', 'RAISDISPPLC', 'RAISNDISPONE', 'NBTOTE', 'RAISNRECNE', 'SOUSEMPL', 'MRO', 'TYPCONTB', 'ANCCHOM', 'MRINE', 'MRBNE', 'MRFNE', 'MRENE', 'MRGNE', 'MRJNE', 'MRANE', 'MRHNE', 'MRCNE', 'MRDNE', 'CREACCP', 'RDET', 'NRECA', 'MRN', 'MRM', 'MRGBIS', 'MRE', 'MRF', 'MRG', 'MRB', 'NREC', 'RAISNREC', 'MRS', 'MRDBIS', 'MRD', 'MRC', 'MRA', 'STCHE', 'TYPCONT', 'CONTACT', 'INSCONT', 'CSTPLC', 'RABS', 'DISPONE', 'DISPOC', 'HPLUSA', 'RAISTP', 'TXTPPRED', 'DISPPLC', 'TITC', 'OFFRE', 'TEMP', 'FONCTC']\n"
     ]
    }
   ],
   "source": [
    "# Calculer le pourcentage de valeurs manquantes pour chaque colonne et chaque année\n",
    "missing_pct_by_year = {}\n",
    "\n",
    "for year in df_fd:\n",
    "    # Pourcentage de valeurs manquantes\n",
    "    missing_pct = (df_fd[year].isnull().sum() / len(df_fd[year])) * 100\n",
    "    missing_pct_by_year[year] = missing_pct\n",
    "\n",
    "# Créer un DataFrame avec les pourcentages de valeurs manquantes pour toutes les années\n",
    "all_cols = set()\n",
    "for year in missing_pct_by_year:\n",
    "    all_cols.update(missing_pct_by_year[year].index)\n",
    "\n",
    "missing_df = pd.DataFrame(index=sorted(all_cols))\n",
    "for year in sorted(missing_pct_by_year.keys()):\n",
    "    missing_df[f'{year}'] = missing_pct_by_year[year]\n",
    "\n",
    "# Trier par le pourcentage moyen de valeurs manquantes\n",
    "missing_df['Moyenne'] = missing_df.mean(axis=1)\n",
    "missing_df_sorted = missing_df.sort_values('Moyenne', ascending=False)\n",
    "\n",
    "# Afficher les colonnes avec le plus de valeurs manquantes\n",
    "print(\"Top 20 des colonnes avec le plus de valeurs manquantes en moyenne:\")\n",
    "print(missing_df_sorted.head(20))\n",
    "\n",
    "# Visualiser les colonnes avec plus de 70% de valeurs manquantes en moyenne\n",
    "cols_to_drop = missing_df_sorted[missing_df_sorted['Moyenne'] > 70].index\n",
    "print(f\"\\nColonnes à potentiellement supprimer (>70% de valeurs manquantes): {len(cols_to_drop)}\")\n",
    "print(cols_to_drop.tolist())"
   ]
  }
 ],
 "metadata": {
  "kernelspec": {
   "display_name": "venv",
   "language": "python",
   "name": "python3"
  },
  "language_info": {
   "codemirror_mode": {
    "name": "ipython",
    "version": 3
   },
   "file_extension": ".py",
   "mimetype": "text/x-python",
   "name": "python",
   "nbconvert_exporter": "python",
   "pygments_lexer": "ipython3",
   "version": "3.13.1"
  }
 },
 "nbformat": 4,
 "nbformat_minor": 2
}
