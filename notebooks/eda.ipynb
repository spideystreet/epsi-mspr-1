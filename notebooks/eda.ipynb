{
 "cells": [
  {
   "cell_type": "code",
   "execution_count": 2,
   "metadata": {},
   "outputs": [
    {
     "name": "stdout",
     "output_type": "stream",
     "text": [
      "zsh:source:1: no such file or directory: venv/bin/activate\n"
     ]
    }
   ],
   "source": [
    "!source venv/bin/activate\n",
    "\n",
    "# Standard imports for data analysis\n",
    "import numpy as np\n",
    "import pandas as pd\n",
    "import matplotlib.pyplot as plt\n",
    "import seaborn as sns"
   ]
  },
  {
   "cell_type": "code",
   "execution_count": null,
   "metadata": {},
   "outputs": [],
   "source": [
    "# charge dataset\n",
    "df2018fd = pd.read_csv('../data/2018/fd.csv', delimiter=\";\", encoding=\"utf-8\") # using delimiter ;\n",
    "df2018varmod = pd.read_csv('../data/2018/varmod.csv', delimiter=\";\", encoding=\"utf-8\") # using delimiter ;"
   ]
  },
  {
   "cell_type": "code",
   "execution_count": 41,
   "metadata": {},
   "outputs": [
    {
     "name": "stdout",
     "output_type": "stream",
     "text": [
      "<class 'pandas.core.frame.DataFrame'>\n",
      "RangeIndex: 1878 entries, 0 to 1877\n",
      "Data columns (total 6 columns):\n",
      " #   Column    Non-Null Count  Dtype  \n",
      "---  ------    --------------  -----  \n",
      " 0   COD_VAR   1878 non-null   object \n",
      " 1   LIB_VAR   1878 non-null   object \n",
      " 2   COD_MOD   1768 non-null   object \n",
      " 3   LIB_MOD   1878 non-null   object \n",
      " 4   TYPE_VAR  1878 non-null   object \n",
      " 5   LONG_VAR  1878 non-null   float64\n",
      "dtypes: float64(1), object(5)\n",
      "memory usage: 88.2+ KB\n",
      "\n",
      "Dataset varmod has 1878 rows and 6 columns.\n",
      "\n",
      "Dataset fd has 424571 rows and 124 columns.\n"
     ]
    }
   ],
   "source": [
    "# shape of the dataset\n",
    "df2018varmod.info()\n",
    "shape2018varmod =df2018varmod.shape\n",
    "shape2018fd = df2018fd.shape\n",
    "\n",
    "print(f\"\\nDataset varmod has {shape2018varmod[0]} rows and {shape2018varmod[1]} columns.\")\n",
    "print(f\"\\nDataset fd has {shape2018fd[0]} rows and {shape2018fd[1]} columns.\")\n"
   ]
  },
  {
   "cell_type": "code",
   "execution_count": 38,
   "metadata": {},
   "outputs": [
    {
     "name": "stdout",
     "output_type": "stream",
     "text": [
      "<class 'pandas.core.frame.DataFrame'>\n",
      "RangeIndex: 424571 entries, 0 to 424570\n",
      "Columns: 124 entries, ANNEE to NBTOTE\n",
      "dtypes: float64(105), int64(13), object(6)\n",
      "memory usage: 401.7+ MB\n"
     ]
    },
    {
     "data": {
      "text/plain": [
       "(424571, 124)"
      ]
     },
     "execution_count": 38,
     "metadata": {},
     "output_type": "execute_result"
    }
   ],
   "source": [
    "df2018fd.info()\n",
    "df2018fd.shape"
   ]
  },
  {
   "cell_type": "code",
   "execution_count": 56,
   "metadata": {},
   "outputs": [
    {
     "name": "stdout",
     "output_type": "stream",
     "text": [
      "Colonnes avec valeurs manquantes dans df2018fd :\n",
      "NFRRED       913\n",
      "ACTEU       1296\n",
      "ACTEU6      1296\n",
      "ACTIF       1296\n",
      "ACTOP       1296\n",
      "           ...  \n",
      "HREC      420789\n",
      "HHCE      230745\n",
      "HPLUSA    388079\n",
      "JOURTR    230746\n",
      "NBTOTE    414818\n",
      "Length: 110, dtype: int64\n",
      "\n",
      "Colonnes avec valeurs manquantes dans df2018varmod :\n",
      "COD_MOD    110\n",
      "dtype: int64\n"
     ]
    }
   ],
   "source": [
    "# missing values for df2018fd\n",
    "missing_fd = df2018fd.isnull().sum()\n",
    "print(\"Colonnes avec valeurs manquantes dans df2018fd :\")\n",
    "print(missing_fd[missing_fd > 0])\n",
    "\n",
    "# missing values for df2018varmod\n",
    "missing_varmod = df2018varmod.isnull().sum()\n",
    "print(\"\\nColonnes avec valeurs manquantes dans df2018varmod :\")\n",
    "print(missing_varmod[missing_varmod > 0])"
   ]
  }
 ],
 "metadata": {
  "kernelspec": {
   "display_name": "venv",
   "language": "python",
   "name": "python3"
  },
  "language_info": {
   "codemirror_mode": {
    "name": "ipython",
    "version": 3
   },
   "file_extension": ".py",
   "mimetype": "text/x-python",
   "name": "python",
   "nbconvert_exporter": "python",
   "pygments_lexer": "ipython3",
   "version": "3.13.1"
  }
 },
 "nbformat": 4,
 "nbformat_minor": 2
}
