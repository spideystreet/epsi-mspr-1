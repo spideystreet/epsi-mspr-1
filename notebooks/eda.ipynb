{
 "cells": [
  {
   "cell_type": "code",
   "execution_count": 4,
   "metadata": {},
   "outputs": [
    {
     "name": "stdout",
     "output_type": "stream",
     "text": [
      "zsh:source:1: no such file or directory: venv/bin/activate\n"
     ]
    }
   ],
   "source": [
    "!source venv/bin/activate\n",
    "\n",
    "# Standard imports for data analysis\n",
    "import numpy as np\n",
    "import pandas as pd\n",
    "import matplotlib.pyplot as plt\n",
    "import seaborn as sns"
   ]
  },
  {
   "cell_type": "markdown",
   "metadata": {},
   "source": [
    "#Loading dataset"
   ]
  },
  {
   "cell_type": "markdown",
   "metadata": {},
   "source": [
    "Datasets are almost the same, years diffears.  \n",
    "\n",
    "We can charge all of them with a loop in our data/  \n",
    "And print their sizes."
   ]
  },
  {
   "cell_type": "code",
   "execution_count": 23,
   "metadata": {},
   "outputs": [
    {
     "name": "stdout",
     "output_type": "stream",
     "text": [
      "Données de 2018 chargées avec succès - fd: (424571, 124), varmod: (1878, 6)\n",
      "Données de 2019 chargées avec succès - fd: (416298, 124), varmod: (1877, 6)\n",
      "Données de 2020 chargées avec succès - fd: (319398, 124), varmod: (1877, 6)\n",
      "Données de 2021 chargées avec succès - fd: (343304, 73), varmod: (1202, 6)\n",
      "Données de 2022 chargées avec succès - fd: (348964, 73), varmod: (1199, 6)\n",
      "Données de 2023 chargées avec succès - fd: (348624, 83), varmod: (1593, 6)\n"
     ]
    }
   ],
   "source": [
    "# charge datas for all years\n",
    "years = range(2018, 2024)  # 2018 to 2023\n",
    "df_fd = {}\n",
    "df_varmod = {}\n",
    "\n",
    "for year in years:\n",
    "    try:\n",
    "        df_fd[year] = pd.read_csv(f'../data/{year}/fd.csv', delimiter=\";\", encoding=\"utf-8\")\n",
    "        df_varmod[year] = pd.read_csv(f'../data/{year}/varmod.csv', delimiter=\";\", encoding=\"utf-8\")\n",
    "        print(f\"Données de {year} chargées avec succès - fd: {df_fd[year].shape}, varmod: {df_varmod[year].shape}\")\n",
    "    except Exception as e:\n",
    "        print(f\"Erreur lors du chargement des données de {year}: {e}\")"
   ]
  },
  {
   "cell_type": "markdown",
   "metadata": {},
   "source": [
    "#Explore data"
   ]
  },
  {
   "cell_type": "markdown",
   "metadata": {},
   "source": [
    "Sample of 2023 dataset"
   ]
  },
  {
   "cell_type": "code",
   "execution_count": 24,
   "metadata": {},
   "outputs": [
    {
     "name": "stdout",
     "output_type": "stream",
     "text": [
      "Structure du fichier varmod (dictionnaire des variables):\n",
      "      COD_VAR                                            LIB_VAR COD_MOD  \\\n",
      "0         AAC  Exercice d'une activité professionnelle réguli...       1   \n",
      "1         AAC  Exercice d'une activité professionnelle réguli...       2   \n",
      "2         AAC  Exercice d'une activité professionnelle réguli...       9   \n",
      "3         AAC  Exercice d'une activité professionnelle réguli...     NaN   \n",
      "4  ACL_EMPLOI  Classe d'emploi (emploi actuel ou dernier emploi)      I1   \n",
      "\n",
      "                                  LIB_MOD TYPE_VAR  LONG_VAR  \n",
      "0                                     Oui     CHAR       1.0  \n",
      "1                                     Non     CHAR       1.0  \n",
      "2                             Non réponse     CHAR       1.0  \n",
      "3                              Hors champ     CHAR       1.0  \n",
      "4  Emploi indépendant de niveau supérieur     CHAR       3.0  \n"
     ]
    }
   ],
   "source": [
    "# Examiner le fichier varmod qui contient les descriptions des variables\n",
    "sample_varmod = df_varmod[2023] if 2023 in df_varmod else next(iter(df_varmod.values()))\n",
    "print(\"Structure du fichier varmod (dictionnaire des variables):\")\n",
    "print(sample_varmod.head())"
   ]
  },
  {
   "cell_type": "code",
   "execution_count": 26,
   "metadata": {},
   "outputs": [
    {
     "name": "stdout",
     "output_type": "stream",
     "text": [
      "Nombre de colonnes communes dans fd à travers toutes les années: 33\n",
      "Nombre de colonnes communes dans varmod à travers toutes les années: 6\n",
      "Nouvelles colonnes dans fd 2021 par rapport à 2020: {'IDENT', 'MRINE', 'RAISNDISPONE', 'HEFFTOT', 'COUPL_LOG', 'RECNE', 'ANCEMPL4', 'NOI', 'HEFFEMP', 'STATUTDET', 'MRJNE', 'MRBNE', 'MRCNE', 'SALTYP', 'SOU_C', 'PCS1Q', 'STCOMM2020', 'AGE6', 'CL_EMPLOI', 'SOUSEMPLR', 'MRANE', 'DISPONE', 'HHABEMP', 'MRENE', 'HHABTOT', 'MRFNE', 'ANCSSEMP', 'DIP7', 'ISCO2', 'NAFANTG088N', 'MRHNE', 'RAISNRECNE', 'RAISNSOUNE', 'DEMNE', 'TYPLOG5', 'MRDNE', 'PCS1', 'PCS2', 'RAISDISPPLC', 'MRGNE'}\n",
      "Colonnes supprimées dans fd 2021 par rapport à 2020: {'AGE3', 'NONDIC', 'AGE5', 'MRPASSC', 'STATOEP', 'ACTIF', 'MRPASSA', 'MRA', 'MRK', 'RDET', 'SOUA', 'MRH', 'COURED', 'ACTEU6', 'CSTMN', 'MRO', 'CREACCP', 'STCHE', 'GARDEB', 'NRECA', 'ACTOP', 'HHCE', 'RAISNSOU', 'RAISNREC', 'CSTOTR', 'DISPOC', 'NFRRED', 'PASTRF', 'RAISPAS', 'DEM', 'MRD', 'EMPNBH', 'CSTOTPRM', 'ANCINACT', 'HPLUSA', 'MRE', 'MRG', 'STMN', 'NAFANT', 'MRF', 'TYPMEN7', 'NREC', 'MRPASSB', 'NRECB', 'CSTPLC', 'MRL', 'MRJ', 'DIP11', 'FONCTC', 'MRBBIS', 'STATUTR', 'AIDFAM', 'JOURTR', 'MREC', 'MRM', 'MRN', 'MRDBIS', 'HREC', 'TITC', 'RAISON', 'PERCREV', 'CATAU2010R', 'STAT2', 'CSP', 'MRI', 'MRGBIS', 'TYPCONT', 'CSA', 'MRC', 'OFFRE', 'DUHAB', 'INSCONT', 'CSE', 'SITANT', 'MRS', 'IDENTM', 'MRB', 'OCCREF', 'TYPCONTB', 'GARDEA', 'NBTOTE', 'HORAIC', 'SOU', 'SOUB', 'CSER', 'HHC6', 'ANCENTR4', 'SOUC', 'CONTACT', 'QPRC', 'CSTOT'}\n",
      "Nouvelles colonnes dans fd 2023 par rapport à 2022: {'ESEG_1', 'ESEG_2', 'APCS2', 'AISCO2', 'STAT_CSPRL', 'PCSL', 'SO', 'CHAMP_M_15_89', 'APCS1', 'ACL_EMPLOI', 'PCSP', 'NATIO', 'STAT_CS'}\n",
      "Colonnes supprimées dans fd 2023 par rapport à 2022: {'PCS1', 'CL_EMPLOI', 'PCS2'}\n"
     ]
    }
   ],
   "source": [
    "# verify consistency of columns between years\n",
    "all_years_fd_cols = {}\n",
    "all_years_varmod_cols = {}\n",
    "\n",
    "for year in df_fd:\n",
    "    all_years_fd_cols[year] = set(df_fd[year].columns)\n",
    "    all_years_varmod_cols[year] = set(df_varmod[year].columns)\n",
    "\n",
    "# find common columns\n",
    "common_fd_cols = set.intersection(*all_years_fd_cols.values()) if all_years_fd_cols else set()\n",
    "common_varmod_cols = set.intersection(*all_years_varmod_cols.values()) if all_years_varmod_cols else set()\n",
    "\n",
    "print(f\"Nombre de colonnes communes dans fd à travers toutes les années: {len(common_fd_cols)}\")\n",
    "print(f\"Nombre de colonnes communes dans varmod à travers toutes les années: {len(common_varmod_cols)}\")\n",
    "\n",
    "# identify columns that appear or disappear according to the years\n",
    "for year in sorted(df_fd.keys()):\n",
    "    if year == min(df_fd.keys()):\n",
    "        continue\n",
    "    prev_year = year - 1\n",
    "    if prev_year in df_fd:\n",
    "        new_cols = all_years_fd_cols[year] - all_years_fd_cols[prev_year]\n",
    "        removed_cols = all_years_fd_cols[prev_year] - all_years_fd_cols[year]\n",
    "        \n",
    "        if new_cols:\n",
    "            print(f\"Nouvelles colonnes dans fd {year} par rapport à {prev_year}: {new_cols}\")\n",
    "        if removed_cols:\n",
    "            print(f\"Colonnes supprimées dans fd {year} par rapport à {prev_year}: {removed_cols}\")"
   ]
  }
 ],
 "metadata": {
  "kernelspec": {
   "display_name": "venv",
   "language": "python",
   "name": "python3"
  },
  "language_info": {
   "codemirror_mode": {
    "name": "ipython",
    "version": 3
   },
   "file_extension": ".py",
   "mimetype": "text/x-python",
   "name": "python",
   "nbconvert_exporter": "python",
   "pygments_lexer": "ipython3",
   "version": "3.13.1"
  }
 },
 "nbformat": 4,
 "nbformat_minor": 2
}
