{
 "cells": [
  {
   "cell_type": "markdown",
   "metadata": {},
   "source": [
    "# Import essential libraries"
   ]
  },
  {
   "cell_type": "code",
   "execution_count": 1,
   "metadata": {},
   "outputs": [],
   "source": [
    "# Import essential libraries\n",
    "import pandas as pd\n",
    "import numpy as np\n",
    "import sqlite3\n",
    "import os\n",
    "\n",
    "# ML preprocessing\n",
    "from sklearn.model_selection import train_test_split\n",
    "from sklearn.preprocessing import StandardScaler, OneHotEncoder, LabelEncoder\n",
    "from sklearn.impute import SimpleImputer\n",
    "from sklearn.compose import ColumnTransformer\n",
    "from sklearn.pipeline import Pipeline\n",
    "\n",
    "# ML models\n",
    "from sklearn.linear_model import LogisticRegression\n",
    "from sklearn.ensemble import RandomForestClassifier, GradientBoostingClassifier\n",
    "from sklearn.svm import SVC\n",
    "from xgboost import XGBClassifier\n",
    "\n",
    "# ML evaluation\n",
    "from sklearn.metrics import accuracy_score"
   ]
  },
  {
   "cell_type": "markdown",
   "metadata": {},
   "source": [
    "# SQL Treatement"
   ]
  },
  {
   "cell_type": "code",
   "execution_count": 2,
   "metadata": {},
   "outputs": [
    {
     "ename": "NameError",
     "evalue": "name 'pd' is not defined",
     "output_type": "error",
     "traceback": [
      "\u001b[31m---------------------------------------------------------------------------\u001b[39m",
      "\u001b[31mNameError\u001b[39m                                 Traceback (most recent call last)",
      "\u001b[36mCell\u001b[39m\u001b[36m \u001b[39m\u001b[32mIn[2]\u001b[39m\u001b[32m, line 33\u001b[39m\n\u001b[32m     30\u001b[39m conn = \u001b[38;5;28;01mNone\u001b[39;00m\n\u001b[32m     32\u001b[39m \u001b[38;5;66;03m# empty DataFrame in case of errors\u001b[39;00m\n\u001b[32m---> \u001b[39m\u001b[32m33\u001b[39m df = \u001b[43mpd\u001b[49m.DataFrame()\n",
      "\u001b[31mNameError\u001b[39m: name 'pd' is not defined"
     ]
    }
   ],
   "source": [
    "# db path\n",
    "db_file_path = \"database/ELECTIONS.db\"\n",
    "\n",
    "# SQL join (tables)\n",
    "sql_query = \"\"\"\n",
    "SELECT\n",
    "    ed.YEAR, ed.DEPARTMENT_CODE, ed.DEPARTMENT, ed.WINNER,\n",
    "    ed.REGISTERED_VOTERS, ed.VOTERS,\n",
    "    ed.PARTY_1, ed.VOTES_1, ed.PARTY_2, ed.VOTES_2,\n",
    "    ed.PARTY_3, ed.VOTES_3, ed.PARTY_4, ed.VOTES_4,\n",
    "    ed.PARTY_5, ed.VOTES_5, ed.PARTY_6, ed.VOTES_6,\n",
    "    ed.PARTY_7, ed.VOTES_7, ed.PARTY_8, ed.VOTES_8,\n",
    "    ed.PARTY_9, ed.VOTES_9,\n",
    "    ud.UNEMPLOYMENT_RATE,\n",
    "    cd.NUMBER_OF_VICTIMS,\n",
    "    id.IMMIGRATION_RATE,\n",
    "    pd.POVERTY_RATE\n",
    "FROM\n",
    "    ELECTION_DATA ed\n",
    "LEFT JOIN\n",
    "    UNEMPLOYMENT_DATA ud ON ed.YEAR = ud.YEAR AND ed.DEPARTMENT_CODE = ud.DEPARTMENT_CODE\n",
    "LEFT JOIN\n",
    "    CRIME_DATA cd ON ed.YEAR = cd.YEAR AND ed.DEPARTMENT_CODE = cd.DEPARTMENT_CODE\n",
    "LEFT JOIN\n",
    "    IMMIGRATION_DATA id ON ed.YEAR = id.YEAR AND ed.DEPARTMENT_CODE = id.DEPARTMENT_CODE\n",
    "LEFT JOIN\n",
    "    POVERTY_DATA pd ON ed.YEAR = pd.YEAR AND ed.DEPARTMENT_CODE = pd.DEPARTMENT_CODE;\n",
    "\"\"\"\n",
    "\n",
    "conn = None\n",
    "\n",
    "# empty DataFrame in case of errors\n",
    "df = pd.DataFrame()"
   ]
  }
 ],
 "metadata": {
  "kernelspec": {
   "display_name": "venv",
   "language": "python",
   "name": "python3"
  },
  "language_info": {
   "codemirror_mode": {
    "name": "ipython",
    "version": 3
   },
   "file_extension": ".py",
   "mimetype": "text/x-python",
   "name": "python",
   "nbconvert_exporter": "python",
   "pygments_lexer": "ipython3",
   "version": "3.13.3"
  }
 },
 "nbformat": 4,
 "nbformat_minor": 2
}
