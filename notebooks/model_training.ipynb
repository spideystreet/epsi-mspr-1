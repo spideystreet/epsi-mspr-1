{
 "cells": [
  {
   "cell_type": "markdown",
   "metadata": {},
   "source": [
    "## Imports"
   ]
  },
  {
   "cell_type": "code",
   "execution_count": 27,
   "metadata": {},
   "outputs": [],
   "source": [
    "import pandas as pd\n",
    "import numpy as np\n",
    "import sqlite3\n",
    "import os\n",
    "import joblib\n",
    "\n",
    "# ML models\n",
    "from sklearn.linear_model import LogisticRegression\n",
    "from sklearn.ensemble import RandomForestClassifier, GradientBoostingClassifier\n",
    "from sklearn.svm import SVC\n",
    "from sklearn.tree import DecisionTreeClassifier\n",
    "from xgboost import XGBClassifier\n",
    "\n",
    "# ML evaluation\n",
    "from sklearn.metrics import accuracy_score, classification_report, confusion_matrix, precision_score\n",
    "import seaborn as sns\n",
    "import matplotlib.pyplot as plt"
   ]
  },
  {
   "cell_type": "code",
   "execution_count": 28,
   "metadata": {},
   "outputs": [
    {
     "name": "stdout",
     "output_type": "stream",
     "text": [
      "Loading processed data from the database...\n",
      "Loaded 652 training rows and 94 testing rows.\n"
     ]
    }
   ],
   "source": [
    "# CELL 2: Load Processed Data\n",
    "# ==============================================================================\n",
    "# --- Configuration ---\n",
    "DB_PATH = '../database/ELECTIONS.db'\n",
    "MODELS_DIR = '../models'\n",
    "\n",
    "print(\"Loading processed data from the database...\")\n",
    "try:\n",
    "    con = sqlite3.connect(DB_PATH)\n",
    "    train_df = pd.read_sql_query('SELECT * FROM PROCESSED_TRAIN_DATA', con)\n",
    "    test_df = pd.read_sql_query('SELECT * FROM PROCESSED_TEST_DATA', con)\n",
    "    con.close()\n",
    "    print(f\"Loaded {len(train_df)} training rows and {len(test_df)} testing rows.\")\n",
    "except Exception as e:\n",
    "    print(f\"Error loading data: {e}\")\n",
    "    # Si le chargement échoue, il est inutile de continuer\n",
    "    exit()"
   ]
  },
  {
   "cell_type": "code",
   "execution_count": 29,
   "metadata": {},
   "outputs": [
    {
     "name": "stdout",
     "output_type": "stream",
     "text": [
      "\n",
      "Separating features and target...\n",
      "✅ Done.\n"
     ]
    }
   ],
   "source": [
    "# CELL 3: Separate Features (X) and Target (y)\n",
    "# ==============================================================================\n",
    "print(\"\\nSeparating features and target...\")\n",
    "TARGET_COL = 'WINNER_encoded'\n",
    "X_train = train_df.drop(columns=[TARGET_COL])\n",
    "y_train = train_df[TARGET_COL]\n",
    "X_test = test_df.drop(columns=[TARGET_COL])\n",
    "y_test = test_df[TARGET_COL]\n",
    "print(\"✅ Done.\")"
   ]
  },
  {
   "cell_type": "code",
   "execution_count": 30,
   "metadata": {},
   "outputs": [
    {
     "name": "stdout",
     "output_type": "stream",
     "text": [
      "\n",
      "--- Training and Evaluating Models ---\n",
      "\n",
      "Training Logistic Regression...\n",
      "✅ Logistic Regression -> Accuracy: 0.2979, Weighted Precision: 0.6213\n",
      "\n",
      "Training Random Forest...\n",
      "✅ Random Forest -> Accuracy: 0.4787, Weighted Precision: 0.6598\n",
      "\n",
      "Training Decision Tree...\n",
      "✅ Decision Tree -> Accuracy: 0.4468, Weighted Precision: 0.6109\n",
      "\n",
      "Training SVM...\n",
      "✅ SVM -> Accuracy: 0.2340, Weighted Precision: 0.6298\n"
     ]
    }
   ],
   "source": [
    "# CELL 4: Define, Train, and Evaluate Models\n",
    "# ==============================================================================\n",
    "print(\"\\n--- Training and Evaluating Models ---\")\n",
    "models = {\n",
    "    \"Logistic Regression\": LogisticRegression(max_iter=1000, random_state=42),\n",
    "    \"Random Forest\": RandomForestClassifier(random_state=42),\n",
    "    \"Decision Tree\": DecisionTreeClassifier(random_state=42),\n",
    "    \"SVM\": SVC(probability=True, random_state=42)\n",
    "}\n",
    "\n",
    "results = {}\n",
    "\n",
    "for name, model in models.items():\n",
    "    print(f\"\\nTraining {name}...\")\n",
    "    model.fit(X_train, y_train)\n",
    "    predictions = model.predict(X_test)\n",
    "    \n",
    "    accuracy = accuracy_score(y_test, predictions)\n",
    "    # Nous utilisons la précision \"weighted\" qui est adaptée pour une classification multi-classes\n",
    "    precision = precision_score(y_test, predictions, average='weighted')\n",
    "    \n",
    "    results[name] = {'model': model, 'accuracy': accuracy, 'precision': precision}\n",
    "    \n",
    "    print(f\"✅ {name} -> Accuracy: {accuracy:.4f}, Weighted Precision: {precision:.4f}\")"
   ]
  },
  {
   "cell_type": "code",
   "execution_count": 31,
   "metadata": {},
   "outputs": [],
   "source": [
    "# CELL 5: Visualize Model Performance\n",
    "# ==============================================================================\n",
    "# Créer un DataFrame avec les résultats pour une visualisation facile\n",
    "accuracy_df = pd.DataFrame([\n",
    "    {'Model': name, 'Accuracy': res['accuracy']}\n",
    "    for name, res in results.items()\n",
    "]).sort_values(by='Accuracy', ascending=False).reset_index(drop=True)"
   ]
  },
  {
   "cell_type": "code",
   "execution_count": 32,
   "metadata": {},
   "outputs": [
    {
     "name": "stderr",
     "output_type": "stream",
     "text": [
      "/var/folders/sp/w9p124nd6jb9srzf94f0v2q80000gn/T/ipykernel_14491/4139775498.py:11: FutureWarning: \n",
      "\n",
      "Passing `palette` without assigning `hue` is deprecated and will be removed in v0.14.0. Assign the `y` variable to `hue` and set `legend=False` for the same effect.\n",
      "\n",
      "  sns.barplot(x='Accuracy', y='Model', data=accuracy_df, palette='viridis')\n"
     ]
    },
    {
     "data": {
      "image/png": "[encoded data removed]",
      "text/plain": [
       "<Figure size 1000x600 with 1 Axes>"
      ]
     },
     "metadata": {},
     "output_type": "display_data"
    },
    {
     "name": "stdout",
     "output_type": "stream",
     "text": [
      "\n",
      "--- Model Performance Summary ---\n",
      "                 Model  Accuracy\n",
      "0        Random Forest  0.478723\n",
      "1        Decision Tree  0.446809\n",
      "2  Logistic Regression  0.297872\n",
      "3                  SVM  0.234043\n"
     ]
    }
   ],
   "source": [
    "# CELL 5: Visualize Model Performance\n",
    "# ==============================================================================\n",
    "# Créer un DataFrame avec les résultats pour une visualisation facile\n",
    "accuracy_df = pd.DataFrame([\n",
    "    {'Model': name, 'Accuracy': res['accuracy']}\n",
    "    for name, res in results.items()\n",
    "]).sort_values(by='Accuracy', ascending=False).reset_index(drop=True)\n",
    "\n",
    "# Visualisation\n",
    "plt.figure(figsize=(10, 6))\n",
    "sns.barplot(x='Accuracy', y='Model', data=accuracy_df, palette='viridis')\n",
    "plt.title('Model Comparison by Accuracy Score')\n",
    "plt.xlabel('Accuracy Score')\n",
    "plt.ylabel('Model')\n",
    "plt.xlim(0, 1.0)\n",
    "plt.show()\n",
    "\n",
    "print(\"\\n--- Model Performance Summary ---\")\n",
    "print(accuracy_df)"
   ]
  },
  {
   "cell_type": "code",
   "execution_count": 33,
   "metadata": {},
   "outputs": [
    {
     "name": "stdout",
     "output_type": "stream",
     "text": [
      "\n",
      "🏆 Best model selected automatically: 'Random Forest' with an accuracy of 0.4787.\n"
     ]
    }
   ],
   "source": [
    "# CELL 6: Automatically Select and Save the Best Model\n",
    "# ==============================================================================\n",
    "# --- Sélection automatique du meilleur modèle ---\n",
    "# Nous prenons le premier modèle du DataFrame, car il est trié par 'Accuracy' décroissante.\n",
    "best_model_name = accuracy_df.loc[0, 'Model']\n",
    "best_model_object = results[best_model_name]['model']\n",
    "best_model_accuracy = accuracy_df.loc[0, 'Accuracy']\n",
    "\n",
    "print(f\"\\n🏆 Best model selected automatically: '{best_model_name}' with an accuracy of {best_model_accuracy:.4f}.\")"
   ]
  },
  {
   "cell_type": "code",
   "execution_count": 34,
   "metadata": {},
   "outputs": [
    {
     "name": "stdout",
     "output_type": "stream",
     "text": [
      "\n",
      "✅ Best model saved successfully to: ../models/random_forest_predictor.joblib\n"
     ]
    }
   ],
   "source": [
    "# --- Sauvegarde ---\n",
    "# Créer le dossier 'models' s'il n'existe pas\n",
    "os.makedirs(MODELS_DIR, exist_ok=True)\n",
    "\n",
    "# Définir le chemin de sauvegarde. Le nom du fichier inclut le nom du modèle pour plus de clarté.\n",
    "model_filename = f\"{best_model_name.lower().replace(' ', '_')}_predictor.joblib\"\n",
    "model_path = os.path.join(MODELS_DIR, model_filename)\n",
    "\n",
    "# Sauvegarder l'objet modèle\n",
    "joblib.dump(best_model_object, model_path)\n",
    "\n",
    "print(f\"\\n✅ Best model saved successfully to: {model_path}\")"
   ]
  }
 ],
 "metadata": {
  "kernelspec": {
   "display_name": "venv",
   "language": "python",
   "name": "python3"
  },
  "language_info": {
   "codemirror_mode": {
    "name": "ipython",
    "version": 3
   },
   "file_extension": ".py",
   "mimetype": "text/x-python",
   "name": "python",
   "nbconvert_exporter": "python",
   "pygments_lexer": "ipython3",
   "version": "3.13.3"
  }
 },
 "nbformat": 4,
 "nbformat_minor": 2
}
