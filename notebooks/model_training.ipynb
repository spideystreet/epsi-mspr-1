{
 "cells": [
  {
   "cell_type": "markdown",
   "metadata": {},
   "source": [
    "# Import essential libraries"
   ]
  },
  {
   "cell_type": "code",
   "execution_count": 43,
   "metadata": {},
   "outputs": [
    {
     "name": "stdout",
     "output_type": "stream",
     "text": [
      "   ANNEE DEPARTEMENT_CODE              DEPARTEMENT    WINNER  NB_INSCRITS  \\\n",
      "0   2024               01                      Ain  E.DROITE       446979   \n",
      "1   2024               02                    Aisne    DROITE        73181   \n",
      "2   2024               03                   Allier  E.DROITE       248529   \n",
      "3   2024               04  Alpes-de-Haute-Provence    GAUCHE       128146   \n",
      "4   2024               05             Hautes-Alpes    GAUCHE       114587   \n",
      "\n",
      "   NB_VOTANTS PARTI_1  VOIX_1   PARTI_2  VOIX_2  ... PARTI_5   VOIX_5 PARTI_6  \\\n",
      "0      311188  GAUCHE   19964    CENTRE  103368  ...  DROITE  27040.0     NaN   \n",
      "1       46620  DROITE   22933  E.DROITE   22409  ...     NaN      NaN     NaN   \n",
      "2      171908  GAUCHE   43029    DROITE   46601  ...     NaN      NaN     NaN   \n",
      "3       90407  GAUCHE   39040  E.DROITE   21536  ...     NaN      NaN     NaN   \n",
      "4       82882  GAUCHE   40743  E.DROITE   34857  ...     NaN      NaN     NaN   \n",
      "\n",
      "   VOIX_6 PARTI_7  VOIX_7 PARTI_8  VOIX_8 PARTI_9  VOIX_9  \n",
      "0     NaN     NaN     NaN     NaN     NaN     NaN     NaN  \n",
      "1     NaN     NaN     NaN     NaN     NaN     NaN     NaN  \n",
      "2     NaN     NaN     NaN     NaN     NaN     NaN     NaN  \n",
      "3     NaN     NaN     NaN     NaN     NaN     NaN     NaN  \n",
      "4     NaN     NaN     NaN     NaN     NaN     NaN     NaN  \n",
      "\n",
      "[5 rows x 24 columns]\n",
      "NaN values per column:\n",
      "ANNEE                 0\n",
      "DEPARTEMENT_CODE      0\n",
      "DEPARTEMENT           0\n",
      "WINNER                0\n",
      "NB_INSCRITS           0\n",
      "NB_VOTANTS            0\n",
      "PARTI_1               0\n",
      "VOIX_1                0\n",
      "PARTI_2               0\n",
      "VOIX_2                0\n",
      "PARTI_3              46\n",
      "VOIX_3               46\n",
      "PARTI_4             146\n",
      "VOIX_4              146\n",
      "PARTI_5             233\n",
      "VOIX_5              233\n",
      "PARTI_6             280\n",
      "VOIX_6              280\n",
      "PARTI_7             300\n",
      "VOIX_7              300\n",
      "PARTI_8             307\n",
      "VOIX_8              307\n",
      "PARTI_9             309\n",
      "VOIX_9              309\n",
      "dtype: int64\n"
     ]
    }
   ],
   "source": [
    "# Import essential libraries\n",
    "import pandas as pd\n",
    "import numpy as np\n",
    "\n",
    "# ML preprocessing\n",
    "from sklearn.model_selection import train_test_split\n",
    "from sklearn.preprocessing import StandardScaler, OneHotEncoder, LabelEncoder\n",
    "from sklearn.impute import SimpleImputer\n",
    "from sklearn.compose import ColumnTransformer\n",
    "from sklearn.pipeline import Pipeline\n",
    "\n",
    "# ML models\n",
    "from sklearn.linear_model import LogisticRegression\n",
    "from sklearn.ensemble import RandomForestClassifier, GradientBoostingClassifier\n",
    "from sklearn.svm import SVC\n",
    "from xgboost import XGBClassifier\n",
    "\n",
    "# ML evaluation\n",
    "from sklearn.metrics import accuracy_score\n",
    "\n",
    "# Load the cleaned dataset\n",
    "df = pd.read_csv('../data/elections_prepared.csv')\n",
    "\n",
    "# Check the first rows\n",
    "print(df.head())\n",
    "\n",
    "# Check NaN values\n",
    "print(\"NaN values per column:\" )\n",
    "print(df.isna().sum())"
   ]
  }
 ],
 "metadata": {
  "kernelspec": {
   "display_name": "venv",
   "language": "python",
   "name": "python3"
  },
  "language_info": {
   "codemirror_mode": {
    "name": "ipython",
    "version": 3
   },
   "file_extension": ".py",
   "mimetype": "text/x-python",
   "name": "python",
   "nbconvert_exporter": "python",
   "pygments_lexer": "ipython3",
   "version": "3.13.3"
  }
 },
 "nbformat": 4,
 "nbformat_minor": 2
}
