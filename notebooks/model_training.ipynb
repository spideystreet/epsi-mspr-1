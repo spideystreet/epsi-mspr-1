{
 "cells": [
  {
   "cell_type": "markdown",
   "metadata": {},
   "source": [
    "## Imports"
   ]
  },
  {
   "cell_type": "code",
   "execution_count": 7,
   "metadata": {},
   "outputs": [],
   "source": [
    "import pandas as pd\n",
    "import numpy as np\n",
    "import sqlite3\n",
    "import os\n",
    "import joblib\n",
    "\n",
    "# ML models\n",
    "from sklearn.linear_model import LogisticRegression\n",
    "from sklearn.ensemble import RandomForestClassifier, GradientBoostingClassifier\n",
    "from sklearn.svm import SVC\n",
    "from xgboost import XGBClassifier\n",
    "\n",
    "# ML evaluation\n",
    "from sklearn.metrics import accuracy_score, classification_report, confusion_matrix\n",
    "import seaborn as sns\n",
    "import matplotlib.pyplot as plt"
   ]
  },
  {
   "cell_type": "code",
   "execution_count": 8,
   "metadata": {},
   "outputs": [
    {
     "name": "stdout",
     "output_type": "stream",
     "text": [
      "Loaded data from database:\n",
      "Training data shape: (148, 95)\n",
      "Testing data shape: (38, 95)\n",
      "\n",
      "Successfully loaded preprocessor and label encoder.\n"
     ]
    }
   ],
   "source": [
    "# Define database and transformers paths\n",
    "db_path = \"../database/ELECTIONS.db\"\n",
    "db_dir = os.path.dirname(db_path)\n",
    "preprocessor_path = os.path.join(db_dir, 'preprocessor_X.joblib')\n",
    "label_encoder_path = os.path.join(db_dir, 'label_encoder_y.joblib')\n",
    "\n",
    "# Connect to the database\n",
    "conn = sqlite3.connect(db_path)\n",
    "\n",
    "# Load the processed data from the database\n",
    "train_df = pd.read_sql('SELECT * FROM PROCESSED_TRAIN_DATA', conn)\n",
    "test_df = pd.read_sql('SELECT * FROM PROCESSED_TEST_DATA', conn)\n",
    "\n",
    "print(\"Loaded data from database:\")\n",
    "print(f\"Training data shape: {train_df.shape}\")\n",
    "print(f\"Testing data shape: {test_df.shape}\")\n",
    "\n",
    "# Load the transformers\n",
    "preprocessor_X = joblib.load(preprocessor_path)\n",
    "label_encoder_y = joblib.load(label_encoder_path)\n",
    "\n",
    "print(\"\\nSuccessfully loaded preprocessor and label encoder.\")"
   ]
  },
  {
   "cell_type": "code",
   "execution_count": 9,
   "metadata": {},
   "outputs": [
    {
     "name": "stdout",
     "output_type": "stream",
     "text": [
      "Data separated into X and y sets:\n",
      "X_train shape: (148, 94)\n",
      "y_train shape: (148,)\n",
      "X_test shape: (38, 94)\n",
      "y_test shape: (38,)\n"
     ]
    }
   ],
   "source": [
    "# The target column is named 'WINNER_encoded'\n",
    "target_column = 'WINNER_encoded'\n",
    "\n",
    "X_train = train_df.drop(target_column, axis=1)\n",
    "y_train = train_df[target_column]\n",
    "\n",
    "X_test = test_df.drop(target_column, axis=1)\n",
    "y_test = test_df[target_column]\n",
    "\n",
    "print(\"Data separated into X and y sets:\")\n",
    "print(f\"X_train shape: {X_train.shape}\")\n",
    "print(f\"y_train shape: {y_train.shape}\")\n",
    "print(f\"X_test shape: {X_test.shape}\")\n",
    "print(f\"y_test shape: {y_test.shape}\")"
   ]
  },
  {
   "cell_type": "code",
   "execution_count": 10,
   "metadata": {},
   "outputs": [
    {
     "name": "stdout",
     "output_type": "stream",
     "text": [
      "--- Logistic Regression ---\n",
      "\n",
      "Accuracy: 0.7105\n",
      "\n",
      "              precision    recall  f1-score   support\n",
      "\n",
      "      CENTRE       0.69      1.00      0.81        22\n",
      "      DROITE       1.00      0.25      0.40         4\n",
      "    E.DROITE       0.80      0.67      0.73         6\n",
      "      GAUCHE       0.00      0.00      0.00         6\n",
      "\n",
      "    accuracy                           0.71        38\n",
      "   macro avg       0.62      0.48      0.49        38\n",
      "weighted avg       0.63      0.71      0.63        38\n",
      "\n",
      "---------------------\n",
      "\n",
      "\n",
      "--- Random Forest ---\n",
      "\n",
      "Accuracy: 0.5263\n",
      "\n",
      "              precision    recall  f1-score   support\n",
      "\n",
      "      CENTRE       0.59      0.77      0.67        22\n",
      "      DROITE       0.33      0.25      0.29         4\n",
      "    E.DROITE       0.67      0.33      0.44         6\n",
      "      GAUCHE       0.00      0.00      0.00         6\n",
      "\n",
      "    accuracy                           0.53        38\n",
      "   macro avg       0.40      0.34      0.35        38\n",
      "weighted avg       0.48      0.53      0.49        38\n",
      "\n",
      "---------------------\n",
      "\n",
      "\n"
     ]
    },
    {
     "name": "stderr",
     "output_type": "stream",
     "text": [
      "/Users/hich/Desktop/Bureau - MacbookAir HICHAM/PRO/GIT/epsi-mspr-1/venv/lib/python3.13/site-packages/sklearn/metrics/_classification.py:1565: UndefinedMetricWarning: Precision is ill-defined and being set to 0.0 in labels with no predicted samples. Use `zero_division` parameter to control this behavior.\n",
      "  _warn_prf(average, modifier, f\"{metric.capitalize()} is\", len(result))\n",
      "/Users/hich/Desktop/Bureau - MacbookAir HICHAM/PRO/GIT/epsi-mspr-1/venv/lib/python3.13/site-packages/sklearn/metrics/_classification.py:1565: UndefinedMetricWarning: Precision is ill-defined and being set to 0.0 in labels with no predicted samples. Use `zero_division` parameter to control this behavior.\n",
      "  _warn_prf(average, modifier, f\"{metric.capitalize()} is\", len(result))\n",
      "/Users/hich/Desktop/Bureau - MacbookAir HICHAM/PRO/GIT/epsi-mspr-1/venv/lib/python3.13/site-packages/sklearn/metrics/_classification.py:1565: UndefinedMetricWarning: Precision is ill-defined and being set to 0.0 in labels with no predicted samples. Use `zero_division` parameter to control this behavior.\n",
      "  _warn_prf(average, modifier, f\"{metric.capitalize()} is\", len(result))\n",
      "/Users/hich/Desktop/Bureau - MacbookAir HICHAM/PRO/GIT/epsi-mspr-1/venv/lib/python3.13/site-packages/sklearn/metrics/_classification.py:1565: UndefinedMetricWarning: Precision is ill-defined and being set to 0.0 in labels with no predicted samples. Use `zero_division` parameter to control this behavior.\n",
      "  _warn_prf(average, modifier, f\"{metric.capitalize()} is\", len(result))\n",
      "/Users/hich/Desktop/Bureau - MacbookAir HICHAM/PRO/GIT/epsi-mspr-1/venv/lib/python3.13/site-packages/sklearn/metrics/_classification.py:1565: UndefinedMetricWarning: Precision is ill-defined and being set to 0.0 in labels with no predicted samples. Use `zero_division` parameter to control this behavior.\n",
      "  _warn_prf(average, modifier, f\"{metric.capitalize()} is\", len(result))\n",
      "/Users/hich/Desktop/Bureau - MacbookAir HICHAM/PRO/GIT/epsi-mspr-1/venv/lib/python3.13/site-packages/sklearn/metrics/_classification.py:1565: UndefinedMetricWarning: Precision is ill-defined and being set to 0.0 in labels with no predicted samples. Use `zero_division` parameter to control this behavior.\n",
      "  _warn_prf(average, modifier, f\"{metric.capitalize()} is\", len(result))\n",
      "/Users/hich/Desktop/Bureau - MacbookAir HICHAM/PRO/GIT/epsi-mspr-1/venv/lib/python3.13/site-packages/sklearn/metrics/_classification.py:1565: UndefinedMetricWarning: Precision is ill-defined and being set to 0.0 in labels with no predicted samples. Use `zero_division` parameter to control this behavior.\n",
      "  _warn_prf(average, modifier, f\"{metric.capitalize()} is\", len(result))\n",
      "/Users/hich/Desktop/Bureau - MacbookAir HICHAM/PRO/GIT/epsi-mspr-1/venv/lib/python3.13/site-packages/sklearn/metrics/_classification.py:1565: UndefinedMetricWarning: Precision is ill-defined and being set to 0.0 in labels with no predicted samples. Use `zero_division` parameter to control this behavior.\n",
      "  _warn_prf(average, modifier, f\"{metric.capitalize()} is\", len(result))\n",
      "/Users/hich/Desktop/Bureau - MacbookAir HICHAM/PRO/GIT/epsi-mspr-1/venv/lib/python3.13/site-packages/sklearn/metrics/_classification.py:1565: UndefinedMetricWarning: Precision is ill-defined and being set to 0.0 in labels with no predicted samples. Use `zero_division` parameter to control this behavior.\n",
      "  _warn_prf(average, modifier, f\"{metric.capitalize()} is\", len(result))\n",
      "/Users/hich/Desktop/Bureau - MacbookAir HICHAM/PRO/GIT/epsi-mspr-1/venv/lib/python3.13/site-packages/sklearn/metrics/_classification.py:1565: UndefinedMetricWarning: Precision is ill-defined and being set to 0.0 in labels with no predicted samples. Use `zero_division` parameter to control this behavior.\n",
      "  _warn_prf(average, modifier, f\"{metric.capitalize()} is\", len(result))\n",
      "/Users/hich/Desktop/Bureau - MacbookAir HICHAM/PRO/GIT/epsi-mspr-1/venv/lib/python3.13/site-packages/sklearn/metrics/_classification.py:1565: UndefinedMetricWarning: Precision is ill-defined and being set to 0.0 in labels with no predicted samples. Use `zero_division` parameter to control this behavior.\n",
      "  _warn_prf(average, modifier, f\"{metric.capitalize()} is\", len(result))\n",
      "/Users/hich/Desktop/Bureau - MacbookAir HICHAM/PRO/GIT/epsi-mspr-1/venv/lib/python3.13/site-packages/sklearn/metrics/_classification.py:1565: UndefinedMetricWarning: Precision is ill-defined and being set to 0.0 in labels with no predicted samples. Use `zero_division` parameter to control this behavior.\n",
      "  _warn_prf(average, modifier, f\"{metric.capitalize()} is\", len(result))\n"
     ]
    },
    {
     "name": "stdout",
     "output_type": "stream",
     "text": [
      "--- Gradient Boosting ---\n",
      "\n",
      "Accuracy: 0.4737\n",
      "\n",
      "              precision    recall  f1-score   support\n",
      "\n",
      "      CENTRE       0.64      0.64      0.64        22\n",
      "      DROITE       0.20      0.25      0.22         4\n",
      "    E.DROITE       0.75      0.50      0.60         6\n",
      "      GAUCHE       0.00      0.00      0.00         6\n",
      "\n",
      "    accuracy                           0.47        38\n",
      "   macro avg       0.40      0.35      0.36        38\n",
      "weighted avg       0.51      0.47      0.49        38\n",
      "\n",
      "---------------------\n",
      "\n",
      "\n",
      "--- SVM ---\n",
      "\n",
      "Accuracy: 0.6316\n",
      "\n",
      "              precision    recall  f1-score   support\n",
      "\n",
      "      CENTRE       0.61      1.00      0.76        22\n",
      "      DROITE       0.00      0.00      0.00         4\n",
      "    E.DROITE       1.00      0.33      0.50         6\n",
      "      GAUCHE       0.00      0.00      0.00         6\n",
      "\n",
      "    accuracy                           0.63        38\n",
      "   macro avg       0.40      0.33      0.31        38\n",
      "weighted avg       0.51      0.63      0.52        38\n",
      "\n",
      "---------------------\n",
      "\n",
      "\n"
     ]
    },
    {
     "name": "stderr",
     "output_type": "stream",
     "text": [
      "/Users/hich/Desktop/Bureau - MacbookAir HICHAM/PRO/GIT/epsi-mspr-1/venv/lib/python3.13/site-packages/xgboost/training.py:183: UserWarning: [17:50:15] WARNING: /Users/runner/work/xgboost/xgboost/src/learner.cc:738: \n",
      "Parameters: { \"use_label_encoder\" } are not used.\n",
      "\n",
      "  bst.update(dtrain, iteration=i, fobj=obj)\n"
     ]
    },
    {
     "name": "stdout",
     "output_type": "stream",
     "text": [
      "--- XGBoost ---\n",
      "\n",
      "Accuracy: 0.6053\n",
      "\n",
      "              precision    recall  f1-score   support\n",
      "\n",
      "      CENTRE       0.72      0.82      0.77        22\n",
      "      DROITE       0.33      0.25      0.29         4\n",
      "    E.DROITE       0.75      0.50      0.60         6\n",
      "      GAUCHE       0.17      0.17      0.17         6\n",
      "\n",
      "    accuracy                           0.61        38\n",
      "   macro avg       0.49      0.43      0.45        38\n",
      "weighted avg       0.60      0.61      0.59        38\n",
      "\n",
      "---------------------\n",
      "\n",
      "\n"
     ]
    }
   ],
   "source": [
    "models = {\n",
    "    'Logistic Regression': LogisticRegression(max_iter=1000, random_state=42),\n",
    "    'Random Forest': RandomForestClassifier(random_state=42),\n",
    "    'Gradient Boosting': GradientBoostingClassifier(random_state=42),\n",
    "    'SVM': SVC(random_state=42),\n",
    "    'XGBoost': XGBClassifier(use_label_encoder=False, eval_metric='mlogloss', random_state=42)\n",
    "}\n",
    "\n",
    "results = {}\n",
    "\n",
    "for name, model in models.items():\n",
    "    # Train the model\n",
    "    model.fit(X_train, y_train)\n",
    "    \n",
    "    # Make predictions on the test set\n",
    "    y_pred = model.predict(X_test)\n",
    "    \n",
    "    # Evaluate the model\n",
    "    accuracy = accuracy_score(y_test, y_pred)\n",
    "    report = classification_report(y_test, y_pred, target_names=label_encoder_y.classes_, output_dict=True)\n",
    "    \n",
    "    # Store results\n",
    "    results[name] = {\n",
    "        'model': model,\n",
    "        'accuracy': accuracy,\n",
    "        'report': report,\n",
    "        'y_pred': y_pred\n",
    "    }\n",
    "    \n",
    "    print(f'--- {name} ---\\n')\n",
    "    print(f'Accuracy: {accuracy:.4f}\\n')\n",
    "    # Print text report\n",
    "    print(classification_report(y_test, y_pred, target_names=label_encoder_y.classes_))\n",
    "    print(\"---------------------\\n\\n\")"
   ]
  },
  {
   "cell_type": "code",
   "execution_count": 11,
   "metadata": {},
   "outputs": [
    {
     "name": "stderr",
     "output_type": "stream",
     "text": [
      "/var/folders/sp/w9p124nd6jb9srzf94f0v2q80000gn/T/ipykernel_57557/4112979148.py:9: FutureWarning: \n",
      "\n",
      "Passing `palette` without assigning `hue` is deprecated and will be removed in v0.14.0. Assign the `y` variable to `hue` and set `legend=False` for the same effect.\n",
      "\n",
      "  sns.barplot(x='Accuracy', y='Model', data=accuracy_df, palette='viridis')\n"
     ]
    },
    {
     "data": {
      "image/png": "[encoded data removed]",
      "text/plain": [
       "<Figure size 1000x600 with 1 Axes>"
      ]
     },
     "metadata": {},
     "output_type": "display_data"
    },
    {
     "name": "stdout",
     "output_type": "stream",
     "text": [
      "Model Performance Summary:\n",
      "                 Model  Accuracy\n",
      "0  Logistic Regression  0.710526\n",
      "1                  SVM  0.631579\n",
      "2              XGBoost  0.605263\n",
      "3        Random Forest  0.526316\n",
      "4    Gradient Boosting  0.473684\n"
     ]
    }
   ],
   "source": [
    "accuracy_df = pd.DataFrame([\n",
    "    {'Model': name, 'Accuracy': res['accuracy']}\n",
    "    for name, res in results.items()\n",
    "])\n",
    "\n",
    "accuracy_df = accuracy_df.sort_values(by='Accuracy', ascending=False).reset_index(drop=True)\n",
    "\n",
    "plt.figure(figsize=(10, 6))\n",
    "sns.barplot(x='Accuracy', y='Model', data=accuracy_df, palette='viridis')\n",
    "plt.title('Model Comparison by Accuracy Score')\n",
    "plt.xlabel('Accuracy Score')\n",
    "plt.ylabel('Model')\n",
    "plt.xlim(0, 1.0)\n",
    "plt.show()\n",
    "\n",
    "print(\"Model Performance Summary:\")\n",
    "print(accuracy_df)"
   ]
  }
 ],
 "metadata": {
  "kernelspec": {
   "display_name": "venv",
   "language": "python",
   "name": "python3"
  },
  "language_info": {
   "codemirror_mode": {
    "name": "ipython",
    "version": 3
   },
   "file_extension": ".py",
   "mimetype": "text/x-python",
   "name": "python",
   "nbconvert_exporter": "python",
   "pygments_lexer": "ipython3",
   "version": "3.13.3"
  }
 },
 "nbformat": 4,
 "nbformat_minor": 2
}
