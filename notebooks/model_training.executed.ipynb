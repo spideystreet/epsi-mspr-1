{
 "cells": [
  {
   "cell_type": "markdown",
   "id": "c3cb7f52",
   "metadata": {},
   "source": [
    "# Entraînement et Sélection du Meilleur Modèle\n",
    "\n",
    "Ce notebook est la deuxième étape de notre projet. Son but est de :\n",
    "1. Charger les données préalablement traitées par le notebook `data_preprocessing.ipynb` depuis **PostgreSQL**.\n",
    "2. Entraîner plusieurs modèles de classification (Régression Logistique, Random Forest, etc.).\n",
    "3. Évaluer et comparer leurs performances sur un jeu de test.\n",
    "4. Sélectionner automatiquement le meilleur modèle et le sauvegarder dans un fichier `.joblib` pour une utilisation future."
   ]
  },
  {
   "cell_type": "markdown",
   "id": "1c2b56ee",
   "metadata": {},
   "source": [
    "## 1. Imports et Chargement de l'Environnement"
   ]
  },
  {
   "cell_type": "code",
   "execution_count": 1,
   "id": "f33330df",
   "metadata": {
    "execution": {
     "iopub.execute_input": "2025-06-19T08:35:28.238152Z",
     "iopub.status.busy": "2025-06-19T08:35:28.237938Z",
     "iopub.status.idle": "2025-06-19T08:35:29.445206Z",
     "shell.execute_reply": "2025-06-19T08:35:29.444536Z"
    }
   },
   "outputs": [
    {
     "name": "stdout",
     "output_type": "stream",
     "text": [
      "Librairies importées et variables d'environnement chargées.\n"
     ]
    }
   ],
   "source": [
    "import pandas as pd\n",
    "import os\n",
    "import joblib\n",
    "from dotenv import load_dotenv\n",
    "from sqlalchemy import create_engine\n",
    "import seaborn as sns\n",
    "import matplotlib.pyplot as plt\n",
    "\n",
    "from sklearn.linear_model import LogisticRegression\n",
    "from sklearn.ensemble import RandomForestClassifier\n",
    "from sklearn.tree import DecisionTreeClassifier\n",
    "from sklearn.svm import SVC\n",
    "from sklearn.metrics import accuracy_score, precision_score\n",
    "\n",
    "load_dotenv()\n",
    "print(\"Librairies importées et variables d'environnement chargées.\")"
   ]
  },
  {
   "cell_type": "markdown",
   "id": "a88d618c",
   "metadata": {},
   "source": [
    "## 2. Chargement des Données Traitées depuis PostgreSQL"
   ]
  },
  {
   "cell_type": "code",
   "execution_count": 2,
   "id": "e5c818a9",
   "metadata": {
    "execution": {
     "iopub.execute_input": "2025-06-19T08:35:29.447308Z",
     "iopub.status.busy": "2025-06-19T08:35:29.446982Z",
     "iopub.status.idle": "2025-06-19T08:35:29.563089Z",
     "shell.execute_reply": "2025-06-19T08:35:29.562526Z"
    }
   },
   "outputs": [
    {
     "name": "stdout",
     "output_type": "stream",
     "text": [
      "Chargement des données traitées depuis PostgreSQL...\n",
      "Données chargées : 652 lignes d'entraînement et 94 lignes de test.\n",
      "Colonnes disponibles : ['number_of_victims', 'immigration_rate', 'poverty_rate', 'unemployment_rate', 'department_code_01', 'department_code_02', 'department_code_03', 'department_code_04', 'department_code_05', 'department_code_06', 'department_code_07', 'department_code_08', 'department_code_09', 'department_code_10', 'department_code_11', 'department_code_12', 'department_code_13', 'department_code_14', 'department_code_15', 'department_code_16', 'department_code_17', 'department_code_18', 'department_code_19', 'department_code_21', 'department_code_22', 'department_code_23', 'department_code_24', 'department_code_25', 'department_code_26', 'department_code_27', 'department_code_28', 'department_code_29', 'department_code_30', 'department_code_31', 'department_code_32', 'department_code_33', 'department_code_34', 'department_code_35', 'department_code_36', 'department_code_37', 'department_code_38', 'department_code_39', 'department_code_40', 'department_code_41', 'department_code_42', 'department_code_43', 'department_code_44', 'department_code_45', 'department_code_46', 'department_code_47', 'department_code_48', 'department_code_49', 'department_code_50', 'department_code_51', 'department_code_52', 'department_code_53', 'department_code_54', 'department_code_55', 'department_code_56', 'department_code_57', 'department_code_58', 'department_code_59', 'department_code_60', 'department_code_61', 'department_code_62', 'department_code_63', 'department_code_64', 'department_code_65', 'department_code_66', 'department_code_67', 'department_code_68', 'department_code_69', 'department_code_70', 'department_code_71', 'department_code_72', 'department_code_73', 'department_code_74', 'department_code_75', 'department_code_76', 'department_code_77', 'department_code_78', 'department_code_79', 'department_code_80', 'department_code_81', 'department_code_82', 'department_code_83', 'department_code_84', 'department_code_85', 'department_code_86', 'department_code_87', 'department_code_88', 'department_code_89', 'department_code_90', 'department_code_91', 'department_code_92', 'department_code_93', 'department_code_94', 'department_code_95', 'winner_encoded']\n",
      "✅ Aucune valeur NaN détectée dans les données chargées.\n"
     ]
    }
   ],
   "source": [
    "MODELS_DIR = '../models'\n",
    "TARGET_COL = 'winner_encoded' # Le nom de colonne est maintenant en minuscules\n",
    "\n",
    "pg_user = os.getenv(\"PG_USER\")\n",
    "pg_password = os.getenv(\"PG_PASSWORD\")\n",
    "pg_host = os.getenv(\"PG_HOST\")\n",
    "pg_port = os.getenv(\"PG_PORT\")\n",
    "pg_dbname = os.getenv(\"PG_DBNAME\")\n",
    "\n",
    "if not all([pg_user, pg_password, pg_host, pg_port, pg_dbname]):\n",
    "    raise ValueError(\"Fichier .env incomplet. Vérifiez les variables PG_USER, PG_PASSWORD, etc.\")\n",
    "\n",
    "db_url = f\"postgresql+psycopg2://{pg_user}:{pg_password}@{pg_host}:{pg_port}/{pg_dbname}\"\n",
    "engine = create_engine(db_url)\n",
    "\n",
    "print(\"Chargement des données traitées depuis PostgreSQL...\")\n",
    "try:\n",
    "    train_df = pd.read_sql_table('processed_train_data', engine)\n",
    "    test_df = pd.read_sql_table('processed_test_data', engine)\n",
    "    print(f\"Données chargées : {len(train_df)} lignes d'entraînement et {len(test_df)} lignes de test.\")\n",
    "\n",
    "    print(f\"Colonnes disponibles : {list(train_df.columns)}\")\n",
    "\n",
    "    if train_df.isnull().sum().sum() > 0 or test_df.isnull().sum().sum() > 0:\n",
    "        raise ValueError(\"Des valeurs NaN ont été trouvées. Veuillez ré-exécuter le notebook 'data_preprocessing.ipynb'.\")\n",
    "    print(\"✅ Aucune valeur NaN détectée dans les données chargées.\")\n",
    "except Exception as e:\n",
    "    print(f\"❌ Erreur lors du chargement des données : {e}\")"
   ]
  },
  {
   "cell_type": "markdown",
   "id": "b83fd058",
   "metadata": {},
   "source": [
    "## 3. Séparation des Features (X) et de la Cible (y)"
   ]
  },
  {
   "cell_type": "code",
   "execution_count": 3,
   "id": "6d3b2716",
   "metadata": {
    "execution": {
     "iopub.execute_input": "2025-06-19T08:35:29.564817Z",
     "iopub.status.busy": "2025-06-19T08:35:29.564531Z",
     "iopub.status.idle": "2025-06-19T08:35:29.573899Z",
     "shell.execute_reply": "2025-06-19T08:35:29.573359Z"
    }
   },
   "outputs": [
    {
     "name": "stdout",
     "output_type": "stream",
     "text": [
      "\n",
      "Séparation des features et de la cible...\n",
      "✅ Terminé.\n"
     ]
    }
   ],
   "source": [
    "print(\"\\nSéparation des features et de la cible...\")\n",
    "X_train = train_df.drop(columns=[TARGET_COL])\n",
    "y_train = train_df[TARGET_COL]\n",
    "X_test = test_df.drop(columns=[TARGET_COL])\n",
    "y_test = test_df[TARGET_COL]\n",
    "print(\"✅ Terminé.\")"
   ]
  },
  {
   "cell_type": "markdown",
   "id": "68f94985",
   "metadata": {},
   "source": [
    "## 4. Entraînement et Évaluation de Plusieurs Modèles"
   ]
  },
  {
   "cell_type": "code",
   "execution_count": 4,
   "id": "474dac3f",
   "metadata": {
    "execution": {
     "iopub.execute_input": "2025-06-19T08:35:29.575407Z",
     "iopub.status.busy": "2025-06-19T08:35:29.575147Z",
     "iopub.status.idle": "2025-06-19T08:35:29.891270Z",
     "shell.execute_reply": "2025-06-19T08:35:29.890685Z"
    }
   },
   "outputs": [
    {
     "name": "stdout",
     "output_type": "stream",
     "text": [
      "--- Entraînement et Évaluation des Modèles ---\n",
      "\n",
      "Entraînement de Logistic Regression...\n",
      "✅ Logistic Regression -> Accuracy: 0.2979, Weighted Precision: 0.6213\n",
      "\n",
      "Entraînement de Random Forest...\n"
     ]
    },
    {
     "name": "stdout",
     "output_type": "stream",
     "text": [
      "✅ Random Forest -> Accuracy: 0.4894, Weighted Precision: 0.6634\n",
      "\n",
      "Entraînement de Decision Tree...\n"
     ]
    },
    {
     "name": "stdout",
     "output_type": "stream",
     "text": [
      "✅ Decision Tree -> Accuracy: 0.4468, Weighted Precision: 0.6025\n",
      "\n",
      "Entraînement de SVM...\n",
      "✅ SVM -> Accuracy: 0.2340, Weighted Precision: 0.6298\n"
     ]
    }
   ],
   "source": [
    "print(\"--- Entraînement et Évaluation des Modèles ---\")\n",
    "models = {\n",
    "    \"Logistic Regression\": LogisticRegression(max_iter=1000, random_state=42),\n",
    "    \"Random Forest\": RandomForestClassifier(random_state=42),\n",
    "    \"Decision Tree\": DecisionTreeClassifier(random_state=42),\n",
    "    \"SVM\": SVC(probability=True, random_state=42)\n",
    "}\n",
    "\n",
    "results = {}\n",
    "\n",
    "for name, model in models.items():\n",
    "    print(f\"\\nEntraînement de {name}...\")\n",
    "    model.fit(X_train, y_train)\n",
    "    predictions = model.predict(X_test)\n",
    "    \n",
    "    accuracy = accuracy_score(y_test, predictions)\n",
    "    precision = precision_score(y_test, predictions, average='weighted', zero_division=0)\n",
    "    \n",
    "    results[name] = {'model': model, 'accuracy': accuracy, 'precision': precision}\n",
    "    \n",
    "    print(f\"✅ {name} -> Accuracy: {accuracy:.4f}, Weighted Precision: {precision:.4f}\")"
   ]
  },
  {
   "cell_type": "markdown",
   "id": "a056dcd2",
   "metadata": {},
   "source": [
    "## 5. Comparaison Visuelle des Performances"
   ]
  },
  {
   "cell_type": "code",
   "execution_count": 5,
   "id": "e17f5e2b",
   "metadata": {
    "execution": {
     "iopub.execute_input": "2025-06-19T08:35:29.892994Z",
     "iopub.status.busy": "2025-06-19T08:35:29.892718Z",
     "iopub.status.idle": "2025-06-19T08:35:30.015510Z",
     "shell.execute_reply": "2025-06-19T08:35:30.014770Z"
    }
   },
   "outputs": [
    {
     "name": "stderr",
     "output_type": "stream",
     "text": [
      "/tmp/ipykernel_42/1871552139.py:7: FutureWarning: \n",
      "\n",
      "Passing `palette` without assigning `hue` is deprecated and will be removed in v0.14.0. Assign the `y` variable to `hue` and set `legend=False` for the same effect.\n",
      "\n",
      "  sns.barplot(x='Accuracy', y='Model', data=accuracy_df, palette='viridis')\n"
     ]
    },
    {
     "data": {
      "image/png": "[encoded data removed]",
      "text/plain": [
       "<Figure size 1000x600 with 1 Axes>"
      ]
     },
     "metadata": {},
     "output_type": "display_data"
    },
    {
     "name": "stdout",
     "output_type": "stream",
     "text": [
      "\n",
      "--- Résumé des Performances ---\n",
      "                 Model  Accuracy\n",
      "0        Random Forest  0.489362\n",
      "1        Decision Tree  0.446809\n",
      "2  Logistic Regression  0.297872\n",
      "3                  SVM  0.234043\n"
     ]
    }
   ],
   "source": [
    "accuracy_df = pd.DataFrame([\n",
    "    {'Model': name, 'Accuracy': res['accuracy']}\n",
    "    for name, res in results.items()\n",
    "]).sort_values(by='Accuracy', ascending=False).reset_index(drop=True)\n",
    "\n",
    "plt.figure(figsize=(10, 6))\n",
    "sns.barplot(x='Accuracy', y='Model', data=accuracy_df, palette='viridis')\n",
    "plt.title('Comparaison des Modèles par Score de Précision (Accuracy)')\n",
    "plt.xlabel('Score de Précision (Accuracy)')\n",
    "plt.ylabel('Modèle')\n",
    "plt.xlim(0, 1.0)\n",
    "plt.show()\n",
    "\n",
    "print(\"\\n--- Résumé des Performances ---\")\n",
    "print(accuracy_df)"
   ]
  },
  {
   "cell_type": "markdown",
   "id": "42e3cb44",
   "metadata": {},
   "source": [
    "## 6. Sélection et Sauvegarde du Meilleur Modèle"
   ]
  },
  {
   "cell_type": "code",
   "execution_count": 6,
   "id": "132353c8",
   "metadata": {
    "execution": {
     "iopub.execute_input": "2025-06-19T08:35:30.017972Z",
     "iopub.status.busy": "2025-06-19T08:35:30.017404Z",
     "iopub.status.idle": "2025-06-19T08:35:30.129317Z",
     "shell.execute_reply": "2025-06-19T08:35:30.128718Z"
    }
   },
   "outputs": [
    {
     "name": "stdout",
     "output_type": "stream",
     "text": [
      "\n",
      "🏆 Meilleur modèle sélectionné : 'Random Forest' avec une précision de 0.4894.\n"
     ]
    },
    {
     "name": "stdout",
     "output_type": "stream",
     "text": [
      "✅ Meilleur modèle sauvegardé ici : ../models/random_forest_predictor.joblib\n"
     ]
    }
   ],
   "source": [
    "best_model_name = accuracy_df.loc[0, 'Model']\n",
    "best_model_object = results[best_model_name]['model']\n",
    "best_model_accuracy = accuracy_df.loc[0, 'Accuracy']\n",
    "\n",
    "print(f\"\\n🏆 Meilleur modèle sélectionné : '{best_model_name}' avec une précision de {best_model_accuracy:.4f}.\")\n",
    "\n",
    "os.makedirs(MODELS_DIR, exist_ok=True)\n",
    "\n",
    "model_filename = f\"{best_model_name.lower().replace(' ', '_')}_predictor.joblib\"\n",
    "model_path = os.path.join(MODELS_DIR, model_filename)\n",
    "\n",
    "joblib.dump(best_model_object, model_path)\n",
    "\n",
    "print(f\"✅ Meilleur modèle sauvegardé ici : {model_path}\")"
   ]
  },
  {
   "cell_type": "markdown",
   "id": "f4b71f90",
   "metadata": {},
   "source": [
    "## 7. Fermeture de la Connexion"
   ]
  },
  {
   "cell_type": "code",
   "execution_count": 7,
   "id": "2ce04cb0",
   "metadata": {
    "execution": {
     "iopub.execute_input": "2025-06-19T08:35:30.131278Z",
     "iopub.status.busy": "2025-06-19T08:35:30.131046Z",
     "iopub.status.idle": "2025-06-19T08:35:30.134948Z",
     "shell.execute_reply": "2025-06-19T08:35:30.134306Z"
    }
   },
   "outputs": [
    {
     "name": "stdout",
     "output_type": "stream",
     "text": [
      "Connexion à la base de données fermée.\n"
     ]
    }
   ],
   "source": [
    "engine.dispose()\n",
    "print(\"Connexion à la base de données fermée.\")"
   ]
  }
 ],
 "metadata": {
  "kernelspec": {
   "display_name": "Python 3 (ipykernel)",
   "language": "python",
   "name": "python3"
  },
  "language_info": {
   "codemirror_mode": {
    "name": "ipython",
    "version": 3
   },
   "file_extension": ".py",
   "mimetype": "text/x-python",
   "name": "python",
   "nbconvert_exporter": "python",
   "pygments_lexer": "ipython3",
   "version": "3.11.13"
  }
 },
 "nbformat": 4,
 "nbformat_minor": 5
}
