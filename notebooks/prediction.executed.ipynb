{
 "cells": [
  {
   "cell_type": "markdown",
   "id": "ee067a3e",
   "metadata": {},
   "source": [
    "# Génération des Prédictions pour 2027\n",
    "\n",
    "**Objectif :** Ce notebook est la dernière étape du pipeline. Il utilise le modèle entraîné pour prédire les résultats des élections de 2027 et prépare les données pour l'analyse en Business Intelligence (BI).\n",
    "\n",
    "1.  **Chargement du modèle** et des transformateurs sauvegardés.\n",
    "2.  **Récupération des données de 2024** depuis PostgreSQL pour servir de base à la prédiction.\n",
    "3.  **Génération des prédictions** pour l'année 2027.\n",
    "4.  **Consolidation** des résultats historiques avec les nouvelles prédictions.\n",
    "5.  **Sauvegarde** de la table finale (`election_results_for_bi`) dans PostgreSQL."
   ]
  },
  {
   "cell_type": "markdown",
   "id": "fd4b1d38",
   "metadata": {},
   "source": [
    "## 1. Imports et Configuration"
   ]
  },
  {
   "cell_type": "code",
   "execution_count": 1,
   "id": "42e076b9",
   "metadata": {
    "execution": {
     "iopub.execute_input": "2025-06-19T08:35:33.058424Z",
     "iopub.status.busy": "2025-06-19T08:35:33.058200Z",
     "iopub.status.idle": "2025-06-19T08:35:33.443001Z",
     "shell.execute_reply": "2025-06-19T08:35:33.442504Z"
    }
   },
   "outputs": [
    {
     "name": "stdout",
     "output_type": "stream",
     "text": [
      "Librairies importées et variables d'environnement chargées.\n"
     ]
    }
   ],
   "source": [
    "import pandas as pd\n",
    "import joblib\n",
    "import os\n",
    "from dotenv import load_dotenv\n",
    "from sqlalchemy import create_engine\n",
    "\n",
    "load_dotenv()\n",
    "print(\"Librairies importées et variables d'environnement chargées.\")"
   ]
  },
  {
   "cell_type": "markdown",
   "id": "f895d2cc",
   "metadata": {},
   "source": [
    "## 2. Connexion à PostgreSQL et Définition des Chemins"
   ]
  },
  {
   "cell_type": "code",
   "execution_count": 2,
   "id": "10d72a6a",
   "metadata": {
    "execution": {
     "iopub.execute_input": "2025-06-19T08:35:33.444781Z",
     "iopub.status.busy": "2025-06-19T08:35:33.444521Z",
     "iopub.status.idle": "2025-06-19T08:35:33.474010Z",
     "shell.execute_reply": "2025-06-19T08:35:33.473410Z"
    }
   },
   "outputs": [
    {
     "name": "stdout",
     "output_type": "stream",
     "text": [
      "Connexion à la base 'ELECTIONS' établie.\n"
     ]
    }
   ],
   "source": [
    "MODELS_DIR = '../models'\n",
    "ARTIFACTS_DIR = '../database'\n",
    "PREPROCESSOR_PATH = os.path.join(ARTIFACTS_DIR, 'preprocessor_X.joblib')\n",
    "LABEL_ENCODER_PATH = os.path.join(ARTIFACTS_DIR, 'label_encoder_y.joblib')\n",
    "\n",
    "BEST_MODEL_FILENAME = 'random_forest_predictor.joblib'\n",
    "MODEL_PATH = os.path.join(MODELS_DIR, BEST_MODEL_FILENAME)\n",
    "\n",
    "pg_user = os.getenv(\"PG_USER\")\n",
    "pg_password = os.getenv(\"PG_PASSWORD\")\n",
    "pg_host = os.getenv(\"PG_HOST\")\n",
    "pg_port = os.getenv(\"PG_PORT\")\n",
    "pg_dbname = os.getenv(\"PG_DBNAME\")\n",
    "\n",
    "if not all([pg_user, pg_password, pg_host, pg_port, pg_dbname]):\n",
    "    raise ValueError(\"Fichier .env incomplet. Vérifiez les variables PG_USER, PG_PASSWORD, etc.\")\n",
    "\n",
    "db_url = f\"postgresql+psycopg2://{pg_user}:{pg_password}@{pg_host}:{pg_port}/{pg_dbname}\"\n",
    "engine = create_engine(db_url)\n",
    "\n",
    "print(f\"Connexion à la base '{pg_dbname}' établie.\")"
   ]
  },
  {
   "cell_type": "markdown",
   "id": "f1638072",
   "metadata": {},
   "source": [
    "## 3. Chargement du Modèle et des Transformateurs"
   ]
  },
  {
   "cell_type": "code",
   "execution_count": 3,
   "id": "fe445a88",
   "metadata": {
    "execution": {
     "iopub.execute_input": "2025-06-19T08:35:33.475850Z",
     "iopub.status.busy": "2025-06-19T08:35:33.475483Z",
     "iopub.status.idle": "2025-06-19T08:35:34.025506Z",
     "shell.execute_reply": "2025-06-19T08:35:34.024996Z"
    }
   },
   "outputs": [
    {
     "name": "stdout",
     "output_type": "stream",
     "text": [
      "Chargement du modèle et des transformateurs...\n"
     ]
    },
    {
     "name": "stdout",
     "output_type": "stream",
     "text": [
      "✅ Modèle 'random_forest_predictor.joblib' et transformateurs chargés.\n"
     ]
    }
   ],
   "source": [
    "print(\"Chargement du modèle et des transformateurs...\")\n",
    "try:\n",
    "    model = joblib.load(MODEL_PATH)\n",
    "    preprocessor_X = joblib.load(PREPROCESSOR_PATH)\n",
    "    label_encoder_y = joblib.load(LABEL_ENCODER_PATH)\n",
    "    print(f\"✅ Modèle '{BEST_MODEL_FILENAME}' et transformateurs chargés.\")\n",
    "except FileNotFoundError as e:\n",
    "    print(f\"❌ Erreur : Fichier non trouvé. {e}\")\n",
    "    print(\"Veuillez d'abord exécuter le notebook 'model_training.ipynb'.\")\n",
    "except Exception as e:\n",
    "    print(f\"Une erreur est survenue : {e}\")"
   ]
  },
  {
   "cell_type": "markdown",
   "id": "fa1e0768",
   "metadata": {},
   "source": [
    "## 4. Préparation des Données pour la Prédiction"
   ]
  },
  {
   "cell_type": "code",
   "execution_count": 4,
   "id": "47845453",
   "metadata": {
    "execution": {
     "iopub.execute_input": "2025-06-19T08:35:34.027637Z",
     "iopub.status.busy": "2025-06-19T08:35:34.027054Z",
     "iopub.status.idle": "2025-06-19T08:35:34.044242Z",
     "shell.execute_reply": "2025-06-19T08:35:34.043753Z"
    }
   },
   "outputs": [
    {
     "name": "stdout",
     "output_type": "stream",
     "text": [
      "Chargement des données de 2024 comme base pour la prédiction de 2027...\n",
      "✅ 94 lignes chargées pour la prédiction.\n",
      "✅ Aucune valeur NaN détectée.\n"
     ]
    }
   ],
   "source": [
    "print(\"Chargement des données de 2024 comme base pour la prédiction de 2027...\")\n",
    "try:\n",
    "    # CORRECTION : Utiliser les noms de colonnes exacts (majuscules, avec guillemets) de la vue \n",
    "    # et utiliser des alias (AS) pour obtenir un DataFrame avec des noms en minuscules.\n",
    "    query = \"\"\"\n",
    "    SELECT \n",
    "        \"DEPARTMENT_CODE\"   AS department_code,\n",
    "        \"NUMBER_OF_VICTIMS\" AS number_of_victims, \n",
    "        \"IMMIGRATION_RATE\"  AS immigration_rate, \n",
    "        \"POVERTY_RATE\"      AS poverty_rate, \n",
    "        \"UNEMPLOYMENT_RATE\" AS unemployment_rate\n",
    "    FROM elections_all\n",
    "    WHERE \"YEAR\" = 2024\n",
    "    \"\"\"\n",
    "    features_to_predict = pd.read_sql(query, engine)\n",
    "    print(f\"✅ {len(features_to_predict)} lignes chargées pour la prédiction.\")\n",
    "    \n",
    "    if features_to_predict.isnull().sum().sum() > 0:\n",
    "        raise ValueError(\"Des valeurs NaN ont été trouvées dans les données de prédiction.\")\n",
    "    print(\"✅ Aucune valeur NaN détectée.\")\n",
    "except Exception as e:\n",
    "    print(f\"❌ Erreur lors du chargement des données de prédiction : {e}\")"
   ]
  },
  {
   "cell_type": "markdown",
   "id": "ee0409bd",
   "metadata": {},
   "source": [
    "## 5. Génération des Prédictions pour 2027"
   ]
  },
  {
   "cell_type": "code",
   "execution_count": 5,
   "id": "0ba468d1",
   "metadata": {
    "execution": {
     "iopub.execute_input": "2025-06-19T08:35:34.046086Z",
     "iopub.status.busy": "2025-06-19T08:35:34.045739Z",
     "iopub.status.idle": "2025-06-19T08:35:34.062758Z",
     "shell.execute_reply": "2025-06-19T08:35:34.062090Z"
    }
   },
   "outputs": [
    {
     "name": "stdout",
     "output_type": "stream",
     "text": [
      "\n",
      "Pré-traitement des données et génération des prédictions pour 2027...\n",
      "✅ Prédictions pour 2027 générées.\n"
     ]
    },
    {
     "data": {
      "text/html": [
       "<div>\n",
       "<style scoped>\n",
       "    .dataframe tbody tr th:only-of-type {\n",
       "        vertical-align: middle;\n",
       "    }\n",
       "\n",
       "    .dataframe tbody tr th {\n",
       "        vertical-align: top;\n",
       "    }\n",
       "\n",
       "    .dataframe thead th {\n",
       "        text-align: right;\n",
       "    }\n",
       "</style>\n",
       "<table border=\"1\" class=\"dataframe\">\n",
       "  <thead>\n",
       "    <tr style=\"text-align: right;\">\n",
       "      <th></th>\n",
       "      <th>year</th>\n",
       "      <th>department_code</th>\n",
       "      <th>winner</th>\n",
       "    </tr>\n",
       "  </thead>\n",
       "  <tbody>\n",
       "    <tr>\n",
       "      <th>0</th>\n",
       "      <td>2027</td>\n",
       "      <td>01</td>\n",
       "      <td>GAUCHE</td>\n",
       "    </tr>\n",
       "    <tr>\n",
       "      <th>1</th>\n",
       "      <td>2027</td>\n",
       "      <td>02</td>\n",
       "      <td>E.DROITE</td>\n",
       "    </tr>\n",
       "    <tr>\n",
       "      <th>2</th>\n",
       "      <td>2027</td>\n",
       "      <td>03</td>\n",
       "      <td>GAUCHE</td>\n",
       "    </tr>\n",
       "    <tr>\n",
       "      <th>3</th>\n",
       "      <td>2027</td>\n",
       "      <td>04</td>\n",
       "      <td>GAUCHE</td>\n",
       "    </tr>\n",
       "    <tr>\n",
       "      <th>4</th>\n",
       "      <td>2027</td>\n",
       "      <td>05</td>\n",
       "      <td>CENTRE</td>\n",
       "    </tr>\n",
       "  </tbody>\n",
       "</table>\n",
       "</div>"
      ],
      "text/plain": [
       "   year department_code    winner\n",
       "0  2027              01    GAUCHE\n",
       "1  2027              02  E.DROITE\n",
       "2  2027              03    GAUCHE\n",
       "3  2027              04    GAUCHE\n",
       "4  2027              05    CENTRE"
      ]
     },
     "metadata": {},
     "output_type": "display_data"
    }
   ],
   "source": [
    "print(\"\\nPré-traitement des données et génération des prédictions pour 2027...\")\n",
    "\n",
    "department_codes = features_to_predict['department_code'].copy()\n",
    "\n",
    "X_processed = preprocessor_X.transform(features_to_predict)\n",
    "predictions_encoded = model.predict(X_processed)\n",
    "predictions_decoded = label_encoder_y.inverse_transform(predictions_encoded)\n",
    "\n",
    "predictions_2027_df = pd.DataFrame({\n",
    "    'year': 2027,\n",
    "    'department_code': department_codes,\n",
    "    'winner': predictions_decoded\n",
    "})\n",
    "\n",
    "print(\"✅ Prédictions pour 2027 générées.\")\n",
    "display(predictions_2027_df.head())"
   ]
  },
  {
   "cell_type": "markdown",
   "id": "c847168a",
   "metadata": {},
   "source": [
    "## 6. Consolidation avec les Données Historiques"
   ]
  },
  {
   "cell_type": "code",
   "execution_count": 6,
   "id": "5ae458c3",
   "metadata": {
    "execution": {
     "iopub.execute_input": "2025-06-19T08:35:34.064260Z",
     "iopub.status.busy": "2025-06-19T08:35:34.063993Z",
     "iopub.status.idle": "2025-06-19T08:35:34.072883Z",
     "shell.execute_reply": "2025-06-19T08:35:34.072431Z"
    }
   },
   "outputs": [
    {
     "name": "stdout",
     "output_type": "stream",
     "text": [
      "\n",
      "Chargement des résultats historiques...\n",
      "✅ 281 lignes de résultats historiques chargées.\n",
      "La table finale pour la BI contient 375 lignes, de 2017 à 2027.\n"
     ]
    }
   ],
   "source": [
    "print(\"\\nChargement des résultats historiques...\")\n",
    "try:\n",
    "    # CORRECTION : Même chose pour la requête des données historiques.\n",
    "    query = \"\"\"\n",
    "    SELECT DISTINCT \n",
    "        \"YEAR\"            AS year, \n",
    "        \"DEPARTMENT_CODE\" AS department_code, \n",
    "        \"WINNER\"          AS winner\n",
    "    FROM elections_all\n",
    "    WHERE \"WINNER\" IS NOT NULL\n",
    "    \"\"\"\n",
    "    historical_results_df = pd.read_sql(query, engine)\n",
    "    print(f\"✅ {len(historical_results_df)} lignes de résultats historiques chargées.\")\n",
    "\n",
    "    final_bi_table = pd.concat([historical_results_df, predictions_2027_df], ignore_index=True)\n",
    "    print(f\"La table finale pour la BI contient {len(final_bi_table)} lignes, de {final_bi_table['year'].min()} à {final_bi_table['year'].max()}.\")\n",
    "except Exception as e:\n",
    "    print(f\"❌ Erreur lors du chargement des données historiques : {e}\")"
   ]
  },
  {
   "cell_type": "markdown",
   "id": "fd305a6e",
   "metadata": {},
   "source": [
    "## 7. Sauvegarde de la Table Finale pour la BI"
   ]
  },
  {
   "cell_type": "code",
   "execution_count": 7,
   "id": "d52821eb",
   "metadata": {
    "execution": {
     "iopub.execute_input": "2025-06-19T08:35:34.074479Z",
     "iopub.status.busy": "2025-06-19T08:35:34.074215Z",
     "iopub.status.idle": "2025-06-19T08:35:34.113112Z",
     "shell.execute_reply": "2025-06-19T08:35:34.112659Z"
    }
   },
   "outputs": [
    {
     "name": "stdout",
     "output_type": "stream",
     "text": [
      "\n",
      "Sauvegarde de la table finale dans PostgreSQL...\n",
      "✅ Table 'election_results_for_bi' sauvegardée avec succès.\n",
      "Vous pouvez maintenant la connecter à votre outil de BI.\n"
     ]
    }
   ],
   "source": [
    "print(\"\\nSauvegarde de la table finale dans PostgreSQL...\")\n",
    "try:\n",
    "    final_bi_table.to_sql(\n",
    "        'election_results_for_bi', \n",
    "        engine, \n",
    "        if_exists='replace', \n",
    "        index=False\n",
    "    )\n",
    "    print(\"✅ Table 'election_results_for_bi' sauvegardée avec succès.\")\n",
    "    print(\"Vous pouvez maintenant la connecter à votre outil de BI.\")\n",
    "except Exception as e:\n",
    "    print(f\"❌ Erreur lors de la sauvegarde de la table finale : {e}\")"
   ]
  },
  {
   "cell_type": "markdown",
   "id": "9ac384eb",
   "metadata": {},
   "source": [
    "## 8. Fermeture de la Connexion"
   ]
  },
  {
   "cell_type": "code",
   "execution_count": 8,
   "id": "2e4ea213",
   "metadata": {
    "execution": {
     "iopub.execute_input": "2025-06-19T08:35:34.114847Z",
     "iopub.status.busy": "2025-06-19T08:35:34.114564Z",
     "iopub.status.idle": "2025-06-19T08:35:34.118041Z",
     "shell.execute_reply": "2025-06-19T08:35:34.117536Z"
    }
   },
   "outputs": [
    {
     "name": "stdout",
     "output_type": "stream",
     "text": [
      "\n",
      "Connexion à la base de données fermée.\n"
     ]
    }
   ],
   "source": [
    "engine.dispose()\n",
    "print(\"\\nConnexion à la base de données fermée.\")"
   ]
  }
 ],
 "metadata": {
  "kernelspec": {
   "display_name": "Python 3 (ipykernel)",
   "language": "python",
   "name": "python3"
  },
  "language_info": {
   "codemirror_mode": {
    "name": "ipython",
    "version": 3
   },
   "file_extension": ".py",
   "mimetype": "text/x-python",
   "name": "python",
   "nbconvert_exporter": "python",
   "pygments_lexer": "ipython3",
   "version": "3.11.13"
  }
 },
 "nbformat": 4,
 "nbformat_minor": 5
}
