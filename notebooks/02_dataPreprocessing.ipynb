{
 "cells": [
  {
   "cell_type": "markdown",
   "metadata": {},
   "source": [
    "#Import"
   ]
  },
  {
   "cell_type": "code",
   "execution_count": 3,
   "metadata": {},
   "outputs": [
    {
     "name": "stdout",
     "output_type": "stream",
     "text": [
      "zsh:source:1: no such file or directory: venv/bin/activate\n"
     ]
    }
   ],
   "source": [
    "!source venv/bin/activate\n",
    "\n",
    "import pandas as pd\n",
    "import numpy as np\n",
    "\n",
    "#import data\n",
    "df = pd.read_csv('../data/elections/0_old/2024.csv')\n"
   ]
  },
  {
   "cell_type": "code",
   "execution_count": 14,
   "metadata": {},
   "outputs": [
    {
     "name": "stdout",
     "output_type": "stream",
     "text": [
      "               DEPARTEMENT  WINNER\n",
      "0                      Ain  GAUCHE\n",
      "1                    Aisne  DROITE\n",
      "2                   Allier  GAUCHE\n",
      "3  Alpes-de-Haute-Provence  GAUCHE\n",
      "4             Hautes-Alpes  GAUCHE\n",
      "5          Alpes-Maritimes  GAUCHE\n",
      "6                  Ardèche  GAUCHE\n",
      "7                 Ardennes  CENTRE\n",
      "8                   Ariège  GAUCHE\n",
      "9                     Aube  GAUCHE\n"
     ]
    }
   ],
   "source": [
    "# 1. extract winner function\n",
    "def extract_winner(row):\n",
    "    # create pairs of (party, votes) for each number from 1 to 8\n",
    "    pairs = []\n",
    "    for i in range(1, 9):\n",
    "        parti_col = f'PARTI_{i}'\n",
    "        voix_col = f'VOIX_{i}'\n",
    "        \n",
    "        # check if the columns exist and are not empty\n",
    "        if parti_col in row and voix_col in row and pd.notna(row[parti_col]) and pd.notna(row[voix_col]):\n",
    "            pairs.append((row[parti_col], row[voix_col]))\n",
    "        # if no valid pair is found, return NaN\n",
    "        if not pairs:\n",
    "            return np.nan\n",
    "        \n",
    "        # finding the party with most votes\n",
    "        winner_party, max_votes = max(pairs, key=lambda x: x[1])\n",
    "        return winner_party\n",
    "\n",
    "# apply the function to each row\n",
    "df['WINNER'] = df.apply(extract_winner, axis=1)\n",
    "\n",
    "# Afficher les premiers résultats pour vérification\n",
    "print(df[['DEPARTEMENT', 'WINNER']].head(10))\n"
   ]
  }
 ],
 "metadata": {
  "kernelspec": {
   "display_name": "venv",
   "language": "python",
   "name": "python3"
  },
  "language_info": {
   "codemirror_mode": {
    "name": "ipython",
    "version": 3
   },
   "file_extension": ".py",
   "mimetype": "text/x-python",
   "name": "python",
   "nbconvert_exporter": "python",
   "pygments_lexer": "ipython3",
   "version": "3.13.1"
  }
 },
 "nbformat": 4,
 "nbformat_minor": 2
}
