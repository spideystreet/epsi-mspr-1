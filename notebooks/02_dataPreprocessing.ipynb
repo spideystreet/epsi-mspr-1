{
 "cells": [
  {
   "cell_type": "markdown",
   "metadata": {},
   "source": [
    "#Import"
   ]
  },
  {
   "cell_type": "code",
   "execution_count": 1,
   "metadata": {},
   "outputs": [],
   "source": [
    "import pandas as pd\n",
    "import numpy as np\n",
    "\n",
    "#import data\n",
    "df = pd.read_csv('../data/elections/0_old/2024.csv')\n"
   ]
  },
  {
   "cell_type": "code",
   "execution_count": 6,
   "metadata": {},
   "outputs": [
    {
     "name": "stdout",
     "output_type": "stream",
     "text": [
      "                         DEPARTEMENT  WINNER\n",
      "0                                Ain  GAUCHE\n",
      "1                              Aisne  DROITE\n",
      "2                             Allier  GAUCHE\n",
      "3            Alpes-de-Haute-Provence  GAUCHE\n",
      "4                       Hautes-Alpes  GAUCHE\n",
      "..                               ...     ...\n",
      "101                          Mayotte  DROITE\n",
      "102              Polynésie française  GAUCHE\n",
      "103               Nouvelle-Calédonie  CENTRE\n",
      "104    Saint-Martin/Saint-Barthélemy  CENTRE\n",
      "105  Français établis hors de France  GAUCHE\n",
      "\n",
      "[106 rows x 2 columns]\n"
     ]
    }
   ],
   "source": [
    "# 1. extract winner function\n",
    "def extract_winner(row):\n",
    "    # create pairs of (party, votes) for each number from 1 to 8\n",
    "    pairs = []\n",
    "    for i in range(1, 9):\n",
    "        parti_col = f'PARTI_{i}'\n",
    "        voix_col = f'VOIX_{i}'\n",
    "        \n",
    "        # check if the columns exist and are not empty\n",
    "        if parti_col in row and voix_col in row and pd.notna(row[parti_col]) and pd.notna(row[voix_col]):\n",
    "            pairs.append((row[parti_col], row[voix_col]))\n",
    "        # if no valid pair is found, return NaN\n",
    "        if not pairs:\n",
    "            return np.nan\n",
    "        \n",
    "        # finding the party with most votes\n",
    "        winner_party, max_votes = max(pairs, key=lambda x: x[1])\n",
    "        return winner_party\n",
    "\n",
    "# apply the function to each row\n",
    "df['WINNER'] = df.apply(extract_winner, axis=1)\n",
    "\n",
    "# display the first 10 results for verification\n",
    "print(df[['DEPARTEMENT', 'WINNER']])\n"
   ]
  }
 ],
 "metadata": {
  "kernelspec": {
   "display_name": "venv",
   "language": "python",
   "name": "python3"
  },
  "language_info": {
   "codemirror_mode": {
    "name": "ipython",
    "version": 3
   },
   "file_extension": ".py",
   "mimetype": "text/x-python",
   "name": "python",
   "nbconvert_exporter": "python",
   "pygments_lexer": "ipython3",
   "version": "3.13.1"
  }
 },
 "nbformat": 4,
 "nbformat_minor": 2
}
