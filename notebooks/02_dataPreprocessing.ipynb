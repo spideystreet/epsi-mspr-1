{
 "cells": [
  {
   "cell_type": "markdown",
   "metadata": {},
   "source": [
    "#Import"
   ]
  },
  {
   "cell_type": "code",
   "execution_count": 3,
   "metadata": {},
   "outputs": [
    {
     "name": "stdout",
     "output_type": "stream",
     "text": [
      "zsh:source:1: no such file or directory: venv/bin/activate\n"
     ]
    }
   ],
   "source": [
    "!source venv/bin/activate\n",
    "\n",
    "import pandas as pd\n",
    "import numpy as np\n",
    "\n",
    "#import data\n",
    "df = pd.read_csv('../data/elections/0_old/2024.csv')\n"
   ]
  },
  {
   "cell_type": "code",
   "execution_count": 5,
   "metadata": {},
   "outputs": [],
   "source": [
    "# 1. extract winner function\n",
    "def extract_winner(row):\n",
    "    # create pairs of (party, votes) for each number from 1 to 8\n",
    "    pairs = []\n",
    "    for i in range(1, 9):\n",
    "        parti_col = f'PARTI_{i}'\n",
    "        voix_col = f'VOIX_{i}'\n",
    "        \n",
    "        # check if the columns exist and are not empty\n",
    "        if parti_col in row and voix_col in row and pd.notna(row[parti_col]) and pd.notna(row[voix_col]):\n",
    "            pairs.append((row[parti_col], row[voix_col]))"
   ]
  }
 ],
 "metadata": {
  "kernelspec": {
   "display_name": "venv",
   "language": "python",
   "name": "python3"
  },
  "language_info": {
   "codemirror_mode": {
    "name": "ipython",
    "version": 3
   },
   "file_extension": ".py",
   "mimetype": "text/x-python",
   "name": "python",
   "nbconvert_exporter": "python",
   "pygments_lexer": "ipython3",
   "version": "3.13.1"
  }
 },
 "nbformat": 4,
 "nbformat_minor": 2
}
